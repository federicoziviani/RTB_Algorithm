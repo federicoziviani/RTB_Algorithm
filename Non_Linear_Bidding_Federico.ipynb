{
 "cells": [
  {
   "cell_type": "code",
   "execution_count": 68,
   "metadata": {},
   "outputs": [],
   "source": [
    "#Import Libraries\n",
    "import pandas as pd\n",
    "import numpy as np\n",
    "import matplotlib.pyplot as mp\n",
    "pCTR_train = pd.read_pickle('pCTR_validation')\n",
    "rtb_val = pd.read_csv('validation.csv')"
   ]
  },
  {
   "cell_type": "markdown",
   "metadata": {},
   "source": [
    "# Linear Bidding using Adaboost for CTR predicion"
   ]
  },
  {
   "cell_type": "code",
   "execution_count": 71,
   "metadata": {},
   "outputs": [
    {
     "data": {
      "text/plain": [
       "0.4909275735338956"
      ]
     },
     "execution_count": 71,
     "metadata": {},
     "output_type": "execute_result"
    }
   ],
   "source": [
    "ada_val = pd.read_pickle('ada_boost_val')\n",
    "ada_val['pCTR'].median()"
   ]
  },
  {
   "cell_type": "code",
   "execution_count": 470,
   "metadata": {},
   "outputs": [
    {
     "data": {
      "text/html": [
       "<div>\n",
       "<style scoped>\n",
       "    .dataframe tbody tr th:only-of-type {\n",
       "        vertical-align: middle;\n",
       "    }\n",
       "\n",
       "    .dataframe tbody tr th {\n",
       "        vertical-align: top;\n",
       "    }\n",
       "\n",
       "    .dataframe thead th {\n",
       "        text-align: right;\n",
       "    }\n",
       "</style>\n",
       "<table border=\"1\" class=\"dataframe\">\n",
       "  <thead>\n",
       "    <tr style=\"text-align: right;\">\n",
       "      <th></th>\n",
       "      <th>pCTR</th>\n",
       "      <th>click</th>\n",
       "      <th>payprice</th>\n",
       "      <th>bidPrice</th>\n",
       "      <th>impression</th>\n",
       "      <th>premium</th>\n",
       "      <th>base_bid</th>\n",
       "    </tr>\n",
       "  </thead>\n",
       "  <tbody>\n",
       "    <tr>\n",
       "      <th>0</th>\n",
       "      <td>0.491136</td>\n",
       "      <td>0</td>\n",
       "      <td>23</td>\n",
       "      <td>48.878033</td>\n",
       "      <td>1</td>\n",
       "      <td>3.268343</td>\n",
       "      <td>81.996435</td>\n",
       "    </tr>\n",
       "    <tr>\n",
       "      <th>1</th>\n",
       "      <td>0.490874</td>\n",
       "      <td>0</td>\n",
       "      <td>75</td>\n",
       "      <td>48.828252</td>\n",
       "      <td>0</td>\n",
       "      <td>3.267487</td>\n",
       "      <td>81.996435</td>\n",
       "    </tr>\n",
       "    <tr>\n",
       "      <th>2</th>\n",
       "      <td>0.491270</td>\n",
       "      <td>0</td>\n",
       "      <td>65</td>\n",
       "      <td>48.903521</td>\n",
       "      <td>0</td>\n",
       "      <td>3.268781</td>\n",
       "      <td>81.996435</td>\n",
       "    </tr>\n",
       "    <tr>\n",
       "      <th>3</th>\n",
       "      <td>0.494251</td>\n",
       "      <td>0</td>\n",
       "      <td>6</td>\n",
       "      <td>49.474727</td>\n",
       "      <td>1</td>\n",
       "      <td>3.278539</td>\n",
       "      <td>81.996435</td>\n",
       "    </tr>\n",
       "    <tr>\n",
       "      <th>4</th>\n",
       "      <td>0.482570</td>\n",
       "      <td>0</td>\n",
       "      <td>5</td>\n",
       "      <td>47.283200</td>\n",
       "      <td>1</td>\n",
       "      <td>3.240466</td>\n",
       "      <td>81.996435</td>\n",
       "    </tr>\n",
       "  </tbody>\n",
       "</table>\n",
       "</div>"
      ],
      "text/plain": [
       "       pCTR  click  payprice   bidPrice  impression   premium   base_bid\n",
       "0  0.491136      0        23  48.878033           1  3.268343  81.996435\n",
       "1  0.490874      0        75  48.828252           0  3.267487  81.996435\n",
       "2  0.491270      0        65  48.903521           0  3.268781  81.996435\n",
       "3  0.494251      0         6  49.474727           1  3.278539  81.996435\n",
       "4  0.482570      0         5  47.283200           1  3.240466  81.996435"
      ]
     },
     "execution_count": 470,
     "metadata": {},
     "output_type": "execute_result"
    }
   ],
   "source": [
    "# Make a table with the bidprice with premium only for impressions with  65%+ of click probability, otherwise bid 0.\n",
    "# inear_bid = avgPayprice/1000 * (2*stDev)\n",
    "df = pd.read_pickle('linear_bid')\n",
    "df2 = df.drop(columns = ['bidprice', 'linear_bid', 'bidid'] )\n",
    "\n",
    "\n",
    "#premium based on taking all impressions with click prob > 0.65\n",
    "\n",
    "df2['bidPrice'] = 21\n",
    "df2['impression'] = 0\n",
    "#pCTR range goes form 0.47 to 0.57\n",
    "df2['pCTR'] = ada_val['pCTR']\n",
    "\n",
    "#premium is exponential of pCTR\n",
    "df2['premium'] = 2* np.exp(df2['pCTR'])\n",
    "\n",
    "#base_bid = validation_payprice.mean()/1000 + (2*std )\n",
    "df2 ['base_bid'] = df ['linear_bid']\n",
    "\n",
    "#update bidPrice column with premium\n",
    "df2.loc[df2.pCTR>=0.5, 'bidPrice'] = np.exp(1.64*df2['premium'])\n",
    "df2.loc[df2.pCTR<0.5, 'bidPrice'] = (np.exp(1.19*df2['premium']))\n",
    "#new way of updating bidprice exponentially\n",
    "#df2 ['bidPrice'] = np.exp(np.exp(df2['premium']))\n",
    "\n",
    "\n",
    "#update impression column \n",
    "df2['impression'] = np.where ((df2['bidPrice'] >= df2['payprice']), 1, 0)\n",
    "#df1['impression'].count()\n",
    "\n",
    "\n",
    "#print it\n",
    "\n",
    "\n",
    "#save the ada boost df in a pickle\n",
    "df2.to_pickle('adaBoost_df')\n",
    "adaBoost_df = pd.read_pickle('adaBoost_df')\n",
    "\n",
    "df2.head()"
   ]
  },
  {
   "cell_type": "markdown",
   "metadata": {},
   "source": [
    "NOW TAKE INTO ACCOUNT FEATURES"
   ]
  },
  {
   "cell_type": "code",
   "execution_count": 482,
   "metadata": {},
   "outputs": [
    {
     "data": {
      "text/plain": [
       "0.5776061990131456"
      ]
     },
     "execution_count": 482,
     "metadata": {},
     "output_type": "execute_result"
    }
   ],
   "source": [
    "#drop unnecessary features in rtb_val:\n",
    "\n",
    "rtb_val_features = rtb_val.drop(columns=['click', 'payprice', 'bidprice','bidid','userid','useragent','IP','adexchange','domain','url','urlid','slotid','slotwidth','slotheight','slotvisibility','slotformat','slotprice','creative','keypage','usertag'])\n",
    "\n",
    "df2_features = pd.merge(df2, rtb_val_features, left_index=True, right_index=True )\n",
    "\n",
    "df2_features['base_bid'].max()\n",
    "df2_features.head()\n",
    "df2_features['bidPrice'].mean()\n",
    "#df2_features.head()\n",
    "df2_features['pCTR'].max()"
   ]
  },
  {
   "cell_type": "markdown",
   "metadata": {},
   "source": [
    "EXPONENTIAL RELATIONSHIP TO pCTR"
   ]
  },
  {
   "cell_type": "code",
   "execution_count": 472,
   "metadata": {},
   "outputs": [],
   "source": [
    "#hours 17 and 18 (ctr >0.001) and most clicks\n",
    "#weekday 2(ctr>0.00096) and 3(ctr>0.00083) or 5. \n",
    "# advertiser 1458 , 3358, 3386 (not much relevant because higher ctr is around 0.00078)\n",
    "#region 146, 325, 333, 27, 106 , 368, 15, 201, 298, 124, 394, 393, 0, 253, 134, 238, 1 have 0.0011<ctr < 0.0015 that is above the opne of our model"
   ]
  },
  {
   "cell_type": "code",
   "execution_count": 473,
   "metadata": {},
   "outputs": [],
   "source": [
    "#if ((df2_features['weekday'].values[i]) == 2 or 3 ):\n",
    "            #if ((df2_features['hour'].values[i]) == 17 or 18):\n",
    "                #if ((df2_features['region'].values[i]) == 325 or 368 or 324 or 393 or 146 or 325 or 333 or 27 or 106 or 368 or 15 or 201 or 298 or 124 or 394 or 393 or 0 or 253 or 134 or 238 or 1):"
   ]
  },
  {
   "cell_type": "code",
   "execution_count": 475,
   "metadata": {},
   "outputs": [
    {
     "name": "stdout",
     "output_type": "stream",
     "text": [
      "Output\n",
      "Number of Bids: 134667\n",
      "Number of Impressions: 303925\n",
      "Number of Clicks: 128\n",
      "CTR is: 0.09504926968002554 %\n",
      "CPM is: 46.039623664312444\n",
      "CPC is: 48.43764062501535\n",
      "Budget consumed is: 6200.0180000019645 Yen\n"
     ]
    }
   ],
   "source": [
    "\n",
    "#run the algorithm to sepend the budget\n",
    "#if ((df2_features['weekday'].values[i]) == 2):\n",
    "budget = 6250\n",
    "impressions = 0\n",
    "bids = 0\n",
    "clicks = 0\n",
    "for i in range(0, len(df2_features)):\n",
    "    if budget > 0 and budget > (df2_features['payprice'].values[i]/1000):\n",
    "        impressions += 1\n",
    "        #if ((df2_features['weekday'].values[i]) == 2 or 3):\n",
    "            #if ((df2_features['region'].values[i]) == 325 or 368 or 394):\n",
    "            # if ((df2_features['hour'].values[i]) == 17 or 18):\n",
    "        if (df2_features['bidPrice'].values[i]) > (df2_features['payprice'].values[i]):\n",
    "            budget = budget - (df2_features['payprice'].values[i]/1000)\n",
    "            bids += 1\n",
    "            clicks += df2_features['click'].values[i] \n",
    "\n",
    "    else:\n",
    "        print(\"Budget is spent!\")\n",
    "        break\n",
    "consumedBudget = 6250 - budget\n",
    "ctr = (clicks/bids)*100   \n",
    "cpm = ((consumedBudget)/bids)*1000\n",
    "cpc = (consumedBudget)/clicks \n",
    "#Output for the alrogithm\n",
    "print(\"Output\")\n",
    "print(\"Number of Bids:\",bids)\n",
    "print(\"Number of Impressions:\",impressions)\n",
    "print(\"Number of Clicks:\", clicks)\n",
    "print(\"CTR is:\",ctr, \"%\")\n",
    "print(\"CPM is:\",cpm)\n",
    "print(\"CPC is:\",cpc)\n",
    "print(\"Budget consumed is:\", 6250-budget, \"Yen\")\n"
   ]
  },
  {
   "cell_type": "markdown",
   "metadata": {},
   "source": [
    "# Liear Bidding using Decision Tree for CTR prediction"
   ]
  },
  {
   "cell_type": "code",
   "execution_count": 371,
   "metadata": {},
   "outputs": [
    {
     "data": {
      "text/html": [
       "<div>\n",
       "<style scoped>\n",
       "    .dataframe tbody tr th:only-of-type {\n",
       "        vertical-align: middle;\n",
       "    }\n",
       "\n",
       "    .dataframe tbody tr th {\n",
       "        vertical-align: top;\n",
       "    }\n",
       "\n",
       "    .dataframe thead th {\n",
       "        text-align: right;\n",
       "    }\n",
       "</style>\n",
       "<table border=\"1\" class=\"dataframe\">\n",
       "  <thead>\n",
       "    <tr style=\"text-align: right;\">\n",
       "      <th></th>\n",
       "      <th>pCTR</th>\n",
       "      <th>click</th>\n",
       "    </tr>\n",
       "  </thead>\n",
       "  <tbody>\n",
       "    <tr>\n",
       "      <th>0</th>\n",
       "      <td>0.357459</td>\n",
       "      <td>0</td>\n",
       "    </tr>\n",
       "    <tr>\n",
       "      <th>1</th>\n",
       "      <td>0.330309</td>\n",
       "      <td>0</td>\n",
       "    </tr>\n",
       "    <tr>\n",
       "      <th>2</th>\n",
       "      <td>0.357459</td>\n",
       "      <td>0</td>\n",
       "    </tr>\n",
       "    <tr>\n",
       "      <th>3</th>\n",
       "      <td>0.357459</td>\n",
       "      <td>0</td>\n",
       "    </tr>\n",
       "    <tr>\n",
       "      <th>4</th>\n",
       "      <td>0.330309</td>\n",
       "      <td>0</td>\n",
       "    </tr>\n",
       "  </tbody>\n",
       "</table>\n",
       "</div>"
      ],
      "text/plain": [
       "       pCTR  click\n",
       "0  0.357459      0\n",
       "1  0.330309      0\n",
       "2  0.357459      0\n",
       "3  0.357459      0\n",
       "4  0.330309      0"
      ]
     },
     "execution_count": 371,
     "metadata": {},
     "output_type": "execute_result"
    }
   ],
   "source": [
    "decision_tree_val = pd.read_pickle('decision_tree_val')\n",
    "decision_tree_val.head()"
   ]
  },
  {
   "cell_type": "code",
   "execution_count": 491,
   "metadata": {},
   "outputs": [
    {
     "name": "stdout",
     "output_type": "stream",
     "text": [
      "54.3\n"
     ]
    }
   ],
   "source": [
    "# Make a table with the bidprice with premium only for impressions with  65%+ of click probability, otherwise bid 0.\n",
    "# inear_bid = avgPayprice/1000 * (2*stDev)\n",
    "df = pd.read_pickle('linear_bid')\n",
    "df3 = df.drop(columns = ['bidprice', 'linear_bid', 'bidid'] )\n",
    "\n",
    "\n",
    "\n",
    "\n",
    "df3['bidPrice'] = 0\n",
    "df3['impression'] = 0\n",
    "#pCTR range goes form 0.47 to 0.57\n",
    "df3['pCTR'] = decision_tree_val['pCTR']\n",
    "\n",
    "#premium is twice the exponential to pCTR\n",
    "df3['premium'] = 2* np.exp(df2['pCTR'])\n",
    "\n",
    "#base_bid = validation_payprice.mean()/1000 + (2*std )\n",
    "df3 ['base_bid'] = df ['linear_bid']\n",
    "\n",
    "#bid price growth is exponentially proportional to premium \n",
    "df3.loc[df3.pCTR>=0.50, 'bidPrice'] = np.exp(1.65*df3['premium'])\n",
    "df3.loc[df3.pCTR<0.50, 'bidPrice'] = (np.exp(1.15*df3['premium']))\n",
    "#new way of updating bidprice exponentially\n",
    "#df2 ['bidPrice'] = np.exp(np.exp(df2['premium']))\n",
    "\n",
    "\n",
    "#update impression column \n",
    "df3['impression'] = np.where ((df3['bidPrice'] >= df3['payprice']), 1, 0)\n",
    "#df1['impression'].count()\n",
    "\n",
    "\n",
    "#print it\n",
    "\n",
    "\n",
    "#save the ada boost df in a pickle\n",
    "df3.to_pickle('adaBoost_df')\n",
    "adaBoost_df = pd.read_pickle('adaBoost_df')\n",
    "\n",
    "df3.head()\n",
    "df3['bidPrice'].max()\n",
    "df3['pCTR'].min()\n",
    "print(87.3-33)\n"
   ]
  },
  {
   "cell_type": "code",
   "execution_count": 476,
   "metadata": {},
   "outputs": [
    {
     "name": "stdout",
     "output_type": "stream",
     "text": [
      "Budget is spent!\n",
      "Output\n",
      "Number of Bids: 131209\n",
      "Number of Impressions: 284795\n",
      "Number of Clicks: 127\n",
      "CTR is: 0.09679214078302555 %\n",
      "CPM is: 47.63300535787908\n",
      "CPC is: 49.21164566930674\n",
      "Budget left is: 6249.879000001956 Yen\n"
     ]
    }
   ],
   "source": [
    "#run the algorithm to sepend the budget\n",
    "\n",
    "budget = 6250\n",
    "impressions = 0\n",
    "bids = 0\n",
    "clicks = 0\n",
    "for i in range(0, len(df3)):\n",
    "    if budget > 0 and budget > (df3['payprice'].values[i]/1000):\n",
    "        impressions += 1\n",
    "        if (df3['bidPrice'].values[i]) > (df3['payprice'].values[i]):\n",
    "            budget = budget - (df3['payprice'].values[i]/1000)\n",
    "            bids += 1\n",
    "            clicks += df3['click'].values[i] \n",
    "    else:\n",
    "        print(\"Budget is spent!\")\n",
    "        break\n",
    "consumedBudget = 6250 - budget\n",
    "ctr = (clicks/bids)*100  \n",
    "cpm = ((consumedBudget)/bids)*1000\n",
    "cpc = (consumedBudget)/clicks \n",
    "#Output for the alrogithm\n",
    "print(\"Output\")\n",
    "print(\"Number of Bids:\",bids)\n",
    "print(\"Number of Impressions:\",impressions)\n",
    "print(\"Number of Clicks:\", clicks)\n",
    "print(\"CTR is:\",ctr, \"%\")\n",
    "print(\"CPM is:\",cpm)\n",
    "print(\"CPC is:\",cpc)\n",
    "print(\"Budget left is:\", 6250-budget, \"Yen\")"
   ]
  },
  {
   "cell_type": "markdown",
   "metadata": {},
   "source": [
    "# VOTING "
   ]
  },
  {
   "cell_type": "code",
   "execution_count": 350,
   "metadata": {},
   "outputs": [
    {
     "data": {
      "text/html": [
       "<div>\n",
       "<style scoped>\n",
       "    .dataframe tbody tr th:only-of-type {\n",
       "        vertical-align: middle;\n",
       "    }\n",
       "\n",
       "    .dataframe tbody tr th {\n",
       "        vertical-align: top;\n",
       "    }\n",
       "\n",
       "    .dataframe thead th {\n",
       "        text-align: right;\n",
       "    }\n",
       "</style>\n",
       "<table border=\"1\" class=\"dataframe\">\n",
       "  <thead>\n",
       "    <tr style=\"text-align: right;\">\n",
       "      <th></th>\n",
       "      <th>pCTR</th>\n",
       "      <th>click</th>\n",
       "    </tr>\n",
       "  </thead>\n",
       "  <tbody>\n",
       "    <tr>\n",
       "      <th>0</th>\n",
       "      <td>0.438947</td>\n",
       "      <td>0</td>\n",
       "    </tr>\n",
       "    <tr>\n",
       "      <th>1</th>\n",
       "      <td>0.450371</td>\n",
       "      <td>0</td>\n",
       "    </tr>\n",
       "    <tr>\n",
       "      <th>2</th>\n",
       "      <td>0.415957</td>\n",
       "      <td>0</td>\n",
       "    </tr>\n",
       "    <tr>\n",
       "      <th>3</th>\n",
       "      <td>0.438027</td>\n",
       "      <td>0</td>\n",
       "    </tr>\n",
       "    <tr>\n",
       "      <th>4</th>\n",
       "      <td>0.394790</td>\n",
       "      <td>0</td>\n",
       "    </tr>\n",
       "  </tbody>\n",
       "</table>\n",
       "</div>"
      ],
      "text/plain": [
       "       pCTR  click\n",
       "0  0.438947      0\n",
       "1  0.450371      0\n",
       "2  0.415957      0\n",
       "3  0.438027      0\n",
       "4  0.394790      0"
      ]
     },
     "execution_count": 350,
     "metadata": {},
     "output_type": "execute_result"
    }
   ],
   "source": [
    "voting_val = pd.read_pickle('voting_clf_pCTR_val')\n",
    "voting_val.head()"
   ]
  },
  {
   "cell_type": "code",
   "execution_count": 537,
   "metadata": {},
   "outputs": [
    {
     "name": "stdout",
     "output_type": "stream",
     "text": [
      "58.33\n"
     ]
    }
   ],
   "source": [
    "# inear_bid = avgPayprice/1000 * (2*stDev)\n",
    "df = pd.read_pickle('linear_bid')\n",
    "df1 = df.drop(columns = ['bidprice', 'linear_bid', 'bidid'] )\n",
    "\n",
    "\n",
    "\n",
    "\n",
    "df1['bidPrice'] = 0\n",
    "df1['impression'] = 0\n",
    "#pCTR range goes form 0.47 to 0.57\n",
    "df1['pCTR'] = voting_val['pCTR']\n",
    "\n",
    "#premium is twice the exponential to pCTR\n",
    "df1['premium'] = 2* np.exp(df1['pCTR'])\n",
    "\n",
    "\n",
    "#bid price growth is exponentially proportional to premium \n",
    "df1.loc[df1.pCTR>=0.50, 'bidPrice'] = np.exp(1.59*df1['premium'])\n",
    "df1.loc[df1.pCTR<0.50, 'bidPrice'] = (np.exp(1.13*df1['premium']))\n",
    "#new way of updating bidprice exponentially\n",
    "#df2 ['bidPrice'] = np.exp(np.exp(df2['premium']))\n",
    "\n",
    "\n",
    "#update impression column \n",
    "df1['impression'] = np.where ((df1['bidPrice'] >= df1['payprice']), 1, 0)\n",
    "#df1['impression'].count()\n",
    "\n",
    "\n",
    "#print it\n",
    "\n",
    "\n",
    "#save the ada boost df in a pickle\n",
    "#df1.to_pickle('adaBoost_df')\n",
    "#adaBoost_df = pd.read_pickle('adaBoost_df')\n",
    "\n",
    "df1.head()\n",
    "df1['bidPrice'].min()\n",
    "print (84.33-26)\n"
   ]
  },
  {
   "cell_type": "code",
   "execution_count": 530,
   "metadata": {},
   "outputs": [
    {
     "name": "stdout",
     "output_type": "stream",
     "text": [
      "Output\n",
      "Number of Bids: 120769\n",
      "Number of Impressions: 303925\n",
      "Number of Clicks: 136\n",
      "CTR is: 0.11261168014970728 %\n",
      "CPM is: 50.97474517468983\n",
      "CPC is: 45.26594852942732\n",
      "Budget left is: 6156.169000002115 Yen\n"
     ]
    }
   ],
   "source": [
    "#run the algorithm to sepend the budget\n",
    "\n",
    "budget = 6250\n",
    "impressions = 0\n",
    "bids = 0\n",
    "clicks = 0\n",
    "for i in range(0, len(df1)):\n",
    "    if budget > 0 and budget > (df1['payprice'].values[i]/1000):\n",
    "        impressions += 1\n",
    "        if (df1['bidPrice'].values[i]) > (df1['payprice'].values[i]):\n",
    "            budget = budget - (df1['payprice'].values[i]/1000)\n",
    "            bids += 1\n",
    "            clicks += df1['click'].values[i] \n",
    "    else:\n",
    "        print(\"Budget is spent!\")\n",
    "        break\n",
    "consumedBudget = 6250 - budget\n",
    "ctr = (clicks/bids)*100  \n",
    "cpm = ((consumedBudget)/bids)*1000\n",
    "cpc = (consumedBudget)/clicks \n",
    "#Output for the alrogithm\n",
    "print(\"Output\")\n",
    "print(\"Number of Bids:\",bids)\n",
    "print(\"Number of Impressions:\",impressions)\n",
    "print(\"Number of Clicks:\", clicks)\n",
    "print(\"CTR is:\",ctr, \"%\")\n",
    "print(\"CPM is:\",cpm)\n",
    "print(\"CPC is:\",cpc)\n",
    "print (\"Budget left is:\", 6250-budget, \"Yen\")"
   ]
  },
  {
   "cell_type": "markdown",
   "metadata": {},
   "source": [
    "# "
   ]
  }
 ],
 "metadata": {
  "kernelspec": {
   "display_name": "Python 3",
   "language": "python",
   "name": "python3"
  },
  "language_info": {
   "codemirror_mode": {
    "name": "ipython",
    "version": 3
   },
   "file_extension": ".py",
   "mimetype": "text/x-python",
   "name": "python",
   "nbconvert_exporter": "python",
   "pygments_lexer": "ipython3",
   "version": "3.6.4"
  }
 },
 "nbformat": 4,
 "nbformat_minor": 2
}
