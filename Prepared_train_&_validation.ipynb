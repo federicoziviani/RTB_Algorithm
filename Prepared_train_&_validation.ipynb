{
 "cells": [
  {
   "cell_type": "markdown",
   "metadata": {},
   "source": [
    "# Prepare data for prediction algorithm \n",
    "## 1. Preprocessing Train Data"
   ]
  },
  {
   "cell_type": "code",
   "execution_count": 1,
   "metadata": {},
   "outputs": [],
   "source": [
    "import pandas as pd\n",
    "from matplotlib import pyplot\n",
    "import matplotlib.pyplot as plt\n",
    "import numpy as np\n",
    "from sklearn.preprocessing import LabelEncoder\n",
    "from sklearn.preprocessing import StandardScaler\n",
    "from sklearn.preprocessing import Imputer\n",
    "%matplotlib inline"
   ]
  },
  {
   "cell_type": "code",

   "execution_count": 27,
   "metadata": {},
   "outputs": [],

   "source": [
    "#Load data\n",
    "df_train = pd.read_csv(\"train.csv\")\n",
    "\n",
    "# Save dataframe \n",
    "df_train.to_pickle('df_train')\n",

    "df_train = df_train.to_pickle('df_train')\n"

   ]
  },
  {
   "cell_type": "markdown",
   "metadata": {},
   "source": [
    "### Check for Null - Nan values in rows "
   ]
  },
  {
   "cell_type": "code",

   "execution_count": 16,

   "metadata": {},
   "outputs": [],
   "source": [
    "# Load saved dataframe\n",
    "df_train_raw = pd.read_pickle('df_train')\n",
    "\n",
    "# urlid only have NaN for all rows  \n",
    "# bidid, userid are not needed for prediction -> drop these cols \n",
    "\n",
    "df_train_raw = df_train_raw.drop(['urlid', 'bidid', 'userid'], axis = 1)"
   ]
  },
  {
   "cell_type": "code",

   "execution_count": 17,
   "metadata": {},
   "outputs": [
    {
     "name": "stdout",
     "output_type": "stream",
     "text": [
      "click False\n",
      "weekday False\n",
      "hour False\n",
      "useragent False\n",
      "IP False\n",
      "region False\n",
      "city False\n",
      "adexchange True\n",
      "domain True\n",
      "url True\n",
      "slotid False\n",
      "slotwidth False\n",
      "slotheight False\n",
      "slotvisibility False\n",
      "slotformat False\n",
      "slotprice False\n",
      "creative False\n",
      "bidprice False\n",
      "payprice False\n",
      "keypage True\n",
      "advertiser False\n",
      "usertag True\n"
     ]
    }
   ],
   "source": [
    "# Check for null in df \n",
    "\n",
    "df_train_cols = list(df_train_raw)\n",
    "for col_name in df_train_cols:\n",
    "    print(col_name, df_train_raw[col_name].isnull().values.any())"
   ]
  },
  {
   "cell_type": "code",

   "execution_count": 18,

   "metadata": {},
   "outputs": [
    {
     "name": "stdout",
     "output_type": "stream",
     "text": [
      "click False\n",
      "weekday False\n",
      "hour False\n",
      "useragent False\n",
      "IP False\n",
      "region False\n",
      "city False\n",
      "adexchange False\n",
      "domain False\n",
      "url False\n",
      "slotid False\n",
      "slotwidth False\n",
      "slotheight False\n",
      "slotvisibility False\n",
      "slotformat False\n",
      "slotprice False\n",
      "creative False\n",
      "bidprice False\n",
      "payprice False\n",
      "keypage False\n",
      "advertiser False\n",
      "usertag False\n"
     ]
    }
   ],
   "source": [
    "# Fill null as 'unknown' \n",
    "df_train_raw['url'].fillna('unknown', inplace = True)\n",
    "df_train_raw['keypage'].fillna('unknown', inplace = True)\n",
    "df_train_raw['usertag'].fillna('unknown', inplace = True)\n",
    "\n",
    "# Convert adexchange data type to int \n",
    "df_train_raw['adexchange'].fillna(0 , inplace = True )\n",
    "df_train_raw.adexchange =  df_train_raw.adexchange.astype(int)\n",
    "\n",
    "# Convert domain data type \n",
    "df_train_raw.domain = df_train_raw.domain.astype(str)\n",
    "\n",
    "# Check for null in df again\n",
    "col_names = list(df_train_raw)\n",
    "for column in col_names:\n",
    "    print(column, df_train_raw[column].isnull().values.any())\n"
   ]
  },
  {
   "cell_type": "markdown",
   "metadata": {},
   "source": [
    "### Encoded catergories data into numerical to use in sklearn libraries "
   ]
  },
  {
   "cell_type": "code",

   "execution_count": 19,

   "metadata": {},
   "outputs": [
    {
     "name": "stdout",
     "output_type": "stream",
     "text": [
      "endcoding useragent .....\n",
      "endcoding IP .....\n",
      "endcoding url .....\n",
      "endcoding domain .....\n",
      "endcoding slotid .....\n",
      "endcoding slotvisibility .....\n",
      "endcoding slotformat .....\n",
      "endcoding creative .....\n",
      "endcoding keypage .....\n",
      "endcoding usertag .....\n",
      "\n",
      "Encoding done!\n"
     ]
    }
   ],
   "source": [
    "lb_encode = LabelEncoder()\n",
    "\n",
    "train_cat_cols = ['useragent','IP','url','domain','slotid','slotvisibility','slotformat','creative','keypage','usertag']\n",
    "for cat_name in train_cat_cols:\n",
    "    print('endcoding', cat_name, '.....')\n",
    "    df_train_raw[cat_name + '_encoded'] = lb_encode.fit_transform(df_train_raw[cat_name])\n",
    "\n",
    "print()\n",
    "print('Encoding done!')"
   ]
  },
  {
   "cell_type": "code",

   "execution_count": 28,

   "metadata": {},
   "outputs": [
    {
     "data": {
      "text/html": [
       "<div>\n",
       "<style scoped>\n",
       "    .dataframe tbody tr th:only-of-type {\n",
       "        vertical-align: middle;\n",
       "    }\n",
       "\n",
       "    .dataframe tbody tr th {\n",
       "        vertical-align: top;\n",
       "    }\n",
       "\n",
       "    .dataframe thead th {\n",
       "        text-align: right;\n",
       "    }\n",
       "</style>\n",
       "<table border=\"1\" class=\"dataframe\">\n",
       "  <thead>\n",
       "    <tr style=\"text-align: right;\">\n",
       "      <th></th>\n",
       "      <th>click</th>\n",
       "      <th>weekday</th>\n",
       "      <th>hour</th>\n",
       "      <th>region</th>\n",
       "      <th>city</th>\n",
       "      <th>adexchange</th>\n",
       "      <th>slotwidth</th>\n",
       "      <th>slotheight</th>\n",
       "      <th>slotprice</th>\n",
       "      <th>bidprice</th>\n",
       "      <th>...</th>\n",
       "      <th>useragent_encoded</th>\n",
       "      <th>IP_encoded</th>\n",
       "      <th>url_encoded</th>\n",
       "      <th>domain_encoded</th>\n",
       "      <th>slotid_encoded</th>\n",
       "      <th>slotvisibility_encoded</th>\n",
       "      <th>slotformat_encoded</th>\n",
       "      <th>creative_encoded</th>\n",
       "      <th>keypage_encoded</th>\n",
       "      <th>usertag_encoded</th>\n",
       "    </tr>\n",
       "  </thead>\n",
       "  <tbody>\n",
       "    <tr>\n",
       "      <th>0</th>\n",
       "      <td>0</td>\n",
       "      <td>5</td>\n",
       "      <td>22</td>\n",
       "      <td>2</td>\n",
       "      <td>2</td>\n",
       "      <td>2</td>\n",
       "      <td>200</td>\n",
       "      <td>200</td>\n",
       "      <td>5</td>\n",
       "      <td>238</td>\n",
       "      <td>...</td>\n",
       "      <td>31</td>\n",
       "      <td>253587</td>\n",
       "      <td>268016</td>\n",
       "      <td>21783</td>\n",
       "      <td>12845</td>\n",
       "      <td>2</td>\n",
       "      <td>0</td>\n",
       "      <td>104</td>\n",
       "      <td>0</td>\n",
       "      <td>744035</td>\n",
       "    </tr>\n",
       "    <tr>\n",
       "      <th>1</th>\n",
       "      <td>0</td>\n",
       "      <td>1</td>\n",
       "      <td>20</td>\n",
       "      <td>238</td>\n",
       "      <td>239</td>\n",
       "      <td>1</td>\n",
       "      <td>300</td>\n",
       "      <td>250</td>\n",
       "      <td>0</td>\n",
       "      <td>294</td>\n",
       "      <td>...</td>\n",
       "      <td>29</td>\n",
       "      <td>282720</td>\n",
       "      <td>145905</td>\n",
       "      <td>728</td>\n",
       "      <td>50771</td>\n",
       "      <td>6</td>\n",
       "      <td>3</td>\n",
       "      <td>9</td>\n",
       "      <td>18</td>\n",
       "      <td>744035</td>\n",
       "    </tr>\n",
       "    <tr>\n",
       "      <th>2</th>\n",
       "      <td>0</td>\n",
       "      <td>3</td>\n",
       "      <td>13</td>\n",
       "      <td>40</td>\n",
       "      <td>41</td>\n",
       "      <td>2</td>\n",
       "      <td>250</td>\n",
       "      <td>250</td>\n",
       "      <td>5</td>\n",
       "      <td>238</td>\n",
       "      <td>...</td>\n",
       "      <td>31</td>\n",
       "      <td>469429</td>\n",
       "      <td>262017</td>\n",
       "      <td>18426</td>\n",
       "      <td>9136</td>\n",
       "      <td>2</td>\n",
       "      <td>0</td>\n",
       "      <td>92</td>\n",
       "      <td>0</td>\n",
       "      <td>188248</td>\n",
       "    </tr>\n",
       "    <tr>\n",
       "      <th>3</th>\n",
       "      <td>0</td>\n",
       "      <td>6</td>\n",
       "      <td>23</td>\n",
       "      <td>1</td>\n",
       "      <td>1</td>\n",
       "      <td>1</td>\n",
       "      <td>160</td>\n",
       "      <td>600</td>\n",
       "      <td>0</td>\n",
       "      <td>300</td>\n",
       "      <td>...</td>\n",
       "      <td>31</td>\n",
       "      <td>107833</td>\n",
       "      <td>658015</td>\n",
       "      <td>4770</td>\n",
       "      <td>50450</td>\n",
       "      <td>2</td>\n",
       "      <td>1</td>\n",
       "      <td>111</td>\n",
       "      <td>12</td>\n",
       "      <td>706361</td>\n",
       "    </tr>\n",
       "    <tr>\n",
       "      <th>4</th>\n",
       "      <td>0</td>\n",
       "      <td>5</td>\n",
       "      <td>6</td>\n",
       "      <td>216</td>\n",
       "      <td>233</td>\n",
       "      <td>2</td>\n",
       "      <td>728</td>\n",
       "      <td>90</td>\n",
       "      <td>133</td>\n",
       "      <td>277</td>\n",
       "      <td>...</td>\n",
       "      <td>31</td>\n",
       "      <td>342191</td>\n",
       "      <td>157670</td>\n",
       "      <td>153</td>\n",
       "      <td>1517</td>\n",
       "      <td>8</td>\n",
       "      <td>3</td>\n",
       "      <td>84</td>\n",
       "      <td>18</td>\n",
       "      <td>744035</td>\n",
       "    </tr>\n",
       "  </tbody>\n",
       "</table>\n",
       "<p>5 rows × 22 columns</p>\n",
       "</div>"
      ],
      "text/plain": [
       "   click  weekday  hour  region  city  adexchange  slotwidth  slotheight  \\\n",
       "0      0        5    22       2     2           2        200         200   \n",
       "1      0        1    20     238   239           1        300         250   \n",
       "2      0        3    13      40    41           2        250         250   \n",
       "3      0        6    23       1     1           1        160         600   \n",
       "4      0        5     6     216   233           2        728          90   \n",
       "\n",
       "   slotprice  bidprice       ...         useragent_encoded  IP_encoded  \\\n",
       "0          5       238       ...                        31      253587   \n",
       "1          0       294       ...                        29      282720   \n",
       "2          5       238       ...                        31      469429   \n",
       "3          0       300       ...                        31      107833   \n",
       "4        133       277       ...                        31      342191   \n",
       "\n",
       "   url_encoded  domain_encoded  slotid_encoded  slotvisibility_encoded  \\\n",
       "0       268016           21783           12845                       2   \n",
       "1       145905             728           50771                       6   \n",
       "2       262017           18426            9136                       2   \n",
       "3       658015            4770           50450                       2   \n",
       "4       157670             153            1517                       8   \n",
       "\n",
       "   slotformat_encoded  creative_encoded  keypage_encoded  usertag_encoded  \n",
       "0                   0               104                0           744035  \n",
       "1                   3                 9               18           744035  \n",
       "2                   0                92                0           188248  \n",
       "3                   1               111               12           706361  \n",
       "4                   3                84               18           744035  \n",
       "\n",
       "[5 rows x 22 columns]"
      ]
     },

     "execution_count": 28,

     "metadata": {},
     "output_type": "execute_result"
    }
   ],
   "source": [
    "df_train_prepared = df_train_raw.drop(columns = ['useragent','IP','domain','url','slotid','slotvisibility','slotformat','creative','keypage','usertag'])\n",
    "\n",
    "# Save prepared df \n",
    "df_train_prepared.to_pickle('df_train_prepared')\n",
    "\n",
    "df_train_prepared.head()"
   ]
  },
  {
   "cell_type": "markdown",
   "metadata": {},
   "source": [
    "## 2. Preprocessing Validation Data "
   ]
  },
  {
   "cell_type": "code",

   "execution_count": 21,

   "metadata": {},
   "outputs": [],
   "source": [
    "df_validation = pd.read_csv('validation.csv')\n",
    "\n",
    "# Drop cols are not needed \n",
    "df_validation = df_validation.drop(columns =['urlid','userid','bidid'])\n"
   ]
  },
  {
   "cell_type": "markdown",
   "metadata": {},
   "source": [
    "#### Check for Null, Nan "
   ]
  },
  {
   "cell_type": "code",

   "execution_count": 22,

   "metadata": {},
   "outputs": [
    {
     "name": "stdout",
     "output_type": "stream",
     "text": [
      "click False\n",
      "weekday False\n",
      "hour False\n",
      "useragent False\n",
      "IP False\n",
      "region False\n",
      "city False\n",
      "adexchange True\n",
      "domain True\n",
      "url True\n",
      "slotid False\n",
      "slotwidth False\n",
      "slotheight False\n",
      "slotvisibility False\n",
      "slotformat False\n",
      "slotprice False\n",
      "creative False\n",
      "bidprice False\n",
      "payprice False\n",
      "keypage True\n",
      "advertiser False\n",
      "usertag True\n"
     ]
    }
   ],
   "source": [
    "df_validation_cols = list(df_validation)\n",
    "\n",
    "for col_name in df_validation_cols: \n",
    "    print( col_name ,df_validation[col_name].isnull().values.any())"
   ]
  },
  {
   "cell_type": "code",

   "execution_count": 23,

   "metadata": {},
   "outputs": [
    {
     "name": "stdout",
     "output_type": "stream",
     "text": [
      "click False\n",
      "weekday False\n",
      "hour False\n",
      "useragent False\n",
      "IP False\n",
      "region False\n",
      "city False\n",
      "adexchange False\n",
      "domain False\n",
      "url False\n",
      "slotid False\n",
      "slotwidth False\n",
      "slotheight False\n",
      "slotvisibility False\n",
      "slotformat False\n",
      "slotprice False\n",
      "creative False\n",
      "bidprice False\n",
      "payprice False\n",
      "keypage False\n",
      "advertiser False\n",
      "usertag False\n"
     ]
    }
   ],
   "source": [
    "# Replace Null with 'unknown'\n",
    "df_validation['domain'].fillna('unknown', inplace = True)\n",
    "df_validation['url'].fillna('unknown', inplace = True)\n",
    "df_validation['keypage'].fillna('unknown', inplace = True)\n",
    "df_validation['usertag'].fillna('unknown', inplace = True)\n",
    "\n",
    "# # Convert adexchange data type to int \n",
    "df_validation['adexchange'].fillna(0 , inplace = True )\n",
    "df_validation.adexchange =  df_validation.adexchange.astype(int)\n",
    "\n",
    "# Convert domain data type \n",
    "df_validation.domain = df_validation.domain.astype(str)\n",
    "\n",
    "# Recheck for null\n",
    "for col_name in df_validation_cols: \n",
    "    print( col_name ,df_validation[col_name].isnull().values.any())"
   ]
  },
  {
   "cell_type": "code",

   "execution_count": 24,
   "metadata": {},
   "outputs": [
    {
     "name": "stdout",
     "output_type": "stream",
     "text": [
      "endcoding useragent .....\n",
      "endcoding IP .....\n",
      "endcoding url .....\n",
      "endcoding domain .....\n",
      "endcoding slotid .....\n",
      "endcoding slotvisibility .....\n",
      "endcoding slotformat .....\n",
      "endcoding creative .....\n",
      "endcoding keypage .....\n",
      "endcoding usertag .....\n",
      "\n",
      "Encoding done!\n"
     ]
    }
   ],
   "source": [
    "# Encode category data\n",
    "\n",
    "validation_cat_cols = ['useragent','IP','url','domain','slotid','slotvisibility','slotformat','creative','keypage','usertag']\n",
    "for cat_name in validation_cat_cols:\n",
    "    print('endcoding', cat_name, '.....')\n",
    "    df_validation[cat_name + '_encoded'] = lb_encode.fit_transform(df_validation[cat_name])\n",
    "\n",
    "print()\n",
    "print('Encoding done!')"
   ]
  },
  {
   "cell_type": "code",

   "execution_count": 14,

   "metadata": {},
   "outputs": [],
   "source": [
    "df_val_prepared = df_validation.drop(columns = ['useragent','IP','domain','url','slotid','slotvisibility','slotformat','creative','keypage','usertag'])\n",

    "df_val_prepared.to_pickle('df_val_prepared_updated')"

   ]
  },
  {
   "cell_type": "code",

   "execution_count": 15,

   "metadata": {},
   "outputs": [
    {
     "data": {
      "text/html": [
       "<div>\n",
       "<style scoped>\n",
       "    .dataframe tbody tr th:only-of-type {\n",
       "        vertical-align: middle;\n",
       "    }\n",
       "\n",
       "    .dataframe tbody tr th {\n",
       "        vertical-align: top;\n",
       "    }\n",
       "\n",
       "    .dataframe thead th {\n",
       "        text-align: right;\n",
       "    }\n",
       "</style>\n",
       "<table border=\"1\" class=\"dataframe\">\n",
       "  <thead>\n",
       "    <tr style=\"text-align: right;\">\n",
       "      <th></th>\n",
       "      <th>click</th>\n",
       "      <th>weekday</th>\n",
       "      <th>hour</th>\n",
       "      <th>region</th>\n",
       "      <th>city</th>\n",
       "      <th>adexchange</th>\n",
       "      <th>slotwidth</th>\n",
       "      <th>slotheight</th>\n",
       "      <th>slotprice</th>\n",
       "      <th>bidprice</th>\n",
       "      <th>...</th>\n",
       "      <th>useragent_encoded</th>\n",
       "      <th>IP_encoded</th>\n",
       "      <th>url_encoded</th>\n",
       "      <th>domain_encoded</th>\n",
       "      <th>slotid_encoded</th>\n",
       "      <th>slotvisibility_encoded</th>\n",
       "      <th>slotformat_encoded</th>\n",
       "      <th>creative_encoded</th>\n",
       "      <th>keypage_encoded</th>\n",
       "      <th>usertag_encoded</th>\n",
       "    </tr>\n",
       "  </thead>\n",
       "  <tbody>\n",
       "    <tr>\n",
       "      <th>0</th>\n",
       "      <td>0</td>\n",
       "      <td>4</td>\n",
       "      <td>20</td>\n",
       "      <td>79</td>\n",
       "      <td>79</td>\n",
       "      <td>1</td>\n",
       "      <td>160</td>\n",
       "      <td>600</td>\n",
       "      <td>0</td>\n",
       "      <td>300</td>\n",
       "      <td>...</td>\n",
       "      <td>28</td>\n",
       "      <td>137474</td>\n",
       "      <td>45239</td>\n",
       "      <td>8595</td>\n",
       "      <td>14275</td>\n",
       "      <td>2</td>\n",
       "      <td>1</td>\n",
       "      <td>109</td>\n",
       "      <td>12</td>\n",
       "      <td>110919</td>\n",
       "    </tr>\n",
       "    <tr>\n",
       "      <th>1</th>\n",
       "      <td>0</td>\n",
       "      <td>1</td>\n",
       "      <td>21</td>\n",
       "      <td>79</td>\n",
       "      <td>79</td>\n",
       "      <td>1</td>\n",
       "      <td>950</td>\n",
       "      <td>90</td>\n",
       "      <td>0</td>\n",
       "      <td>238</td>\n",
       "      <td>...</td>\n",
       "      <td>26</td>\n",
       "      <td>178167</td>\n",
       "      <td>109524</td>\n",
       "      <td>7201</td>\n",
       "      <td>14355</td>\n",
       "      <td>0</td>\n",
       "      <td>1</td>\n",
       "      <td>108</td>\n",
       "      <td>7</td>\n",
       "      <td>69995</td>\n",
       "    </tr>\n",
       "    <tr>\n",
       "      <th>2</th>\n",
       "      <td>0</td>\n",
       "      <td>4</td>\n",
       "      <td>8</td>\n",
       "      <td>2</td>\n",
       "      <td>2</td>\n",
       "      <td>2</td>\n",
       "      <td>300</td>\n",
       "      <td>250</td>\n",
       "      <td>5</td>\n",
       "      <td>238</td>\n",
       "      <td>...</td>\n",
       "      <td>28</td>\n",
       "      <td>52834</td>\n",
       "      <td>75356</td>\n",
       "      <td>8455</td>\n",
       "      <td>7129</td>\n",
       "      <td>2</td>\n",
       "      <td>0</td>\n",
       "      <td>99</td>\n",
       "      <td>14</td>\n",
       "      <td>108448</td>\n",
       "    </tr>\n",
       "    <tr>\n",
       "      <th>3</th>\n",
       "      <td>0</td>\n",
       "      <td>5</td>\n",
       "      <td>15</td>\n",
       "      <td>201</td>\n",
       "      <td>205</td>\n",
       "      <td>2</td>\n",
       "      <td>336</td>\n",
       "      <td>280</td>\n",
       "      <td>5</td>\n",
       "      <td>238</td>\n",
       "      <td>...</td>\n",
       "      <td>26</td>\n",
       "      <td>192739</td>\n",
       "      <td>27901</td>\n",
       "      <td>8931</td>\n",
       "      <td>8936</td>\n",
       "      <td>2</td>\n",
       "      <td>0</td>\n",
       "      <td>116</td>\n",
       "      <td>14</td>\n",
       "      <td>109043</td>\n",
       "    </tr>\n",
       "    <tr>\n",
       "      <th>4</th>\n",
       "      <td>0</td>\n",
       "      <td>1</td>\n",
       "      <td>18</td>\n",
       "      <td>134</td>\n",
       "      <td>135</td>\n",
       "      <td>2</td>\n",
       "      <td>200</td>\n",
       "      <td>200</td>\n",
       "      <td>5</td>\n",
       "      <td>249</td>\n",
       "      <td>...</td>\n",
       "      <td>26</td>\n",
       "      <td>55070</td>\n",
       "      <td>135142</td>\n",
       "      <td>6582</td>\n",
       "      <td>423</td>\n",
       "      <td>1</td>\n",
       "      <td>0</td>\n",
       "      <td>42</td>\n",
       "      <td>5</td>\n",
       "      <td>6344</td>\n",
       "    </tr>\n",
       "  </tbody>\n",
       "</table>\n",
       "<p>5 rows × 22 columns</p>\n",
       "</div>"
      ],
      "text/plain": [
       "   click  weekday  hour  region  city  adexchange  slotwidth  slotheight  \\\n",
       "0      0        4    20      79    79           1        160         600   \n",
       "1      0        1    21      79    79           1        950          90   \n",
       "2      0        4     8       2     2           2        300         250   \n",
       "3      0        5    15     201   205           2        336         280   \n",
       "4      0        1    18     134   135           2        200         200   \n",
       "\n",
       "   slotprice  bidprice       ...         useragent_encoded  IP_encoded  \\\n",
       "0          0       300       ...                        28      137474   \n",
       "1          0       238       ...                        26      178167   \n",
       "2          5       238       ...                        28       52834   \n",
       "3          5       238       ...                        26      192739   \n",
       "4          5       249       ...                        26       55070   \n",
       "\n",
       "   url_encoded  domain_encoded  slotid_encoded  slotvisibility_encoded  \\\n",
       "0        45239            8595           14275                       2   \n",
       "1       109524            7201           14355                       0   \n",
       "2        75356            8455            7129                       2   \n",
       "3        27901            8931            8936                       2   \n",
       "4       135142            6582             423                       1   \n",
       "\n",
       "   slotformat_encoded  creative_encoded  keypage_encoded  usertag_encoded  \n",
       "0                   1               109               12           110919  \n",
       "1                   1               108                7            69995  \n",
       "2                   0                99               14           108448  \n",
       "3                   0               116               14           109043  \n",
       "4                   0                42                5             6344  \n",
       "\n",
       "[5 rows x 22 columns]"
      ]
     },

     "execution_count": 15,

     "metadata": {},
     "output_type": "execute_result"
    }
   ],
   "source": [
    "df_val_prepared.head()"
   ]
  },
  {
   "cell_type": "markdown",
   "metadata": {},
   "source": [
    "# Train and Validation df prepared! \n",
    "\n",
    "- Now you can run notebooks ClickPrediction \n",
    "- After that you can run Comparision the models \n",
    "- If u save your predictions bid price as a list or dframe then we can test that too "
   ]
  },
  {
   "cell_type": "code",
   "execution_count": null,
   "metadata": {},
   "outputs": [],
   "source": []

  },
  {
   "cell_type": "code",
   "execution_count": null,
   "metadata": {},
   "outputs": [],
   "source": []
  },
  {
   "cell_type": "code",
   "execution_count": null,
   "metadata": {},
   "outputs": [],
   "source": []

  }
 ],
 "metadata": {
  "kernelspec": {
   "display_name": "Python 3",
   "language": "python",
   "name": "python3"
  },
  "language_info": {
   "codemirror_mode": {
    "name": "ipython",
    "version": 3
   },
   "file_extension": ".py",
   "mimetype": "text/x-python",
   "name": "python",
   "nbconvert_exporter": "python",
   "pygments_lexer": "ipython3",
   "version": "3.6.4"
  }
 },
 "nbformat": 4,
 "nbformat_minor": 2
}
