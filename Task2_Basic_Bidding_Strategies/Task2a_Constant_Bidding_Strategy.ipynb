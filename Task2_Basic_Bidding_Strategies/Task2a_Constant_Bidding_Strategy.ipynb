{
 "cells": [
  {
   "cell_type": "markdown",
   "metadata": {},
   "source": [
    "## Constant bidding strategy 1: mean CPM as bid price"
   ]
  },
  {
   "cell_type": "code",
   "execution_count": 2,
   "metadata": {},
   "outputs": [],
   "source": [
    "#Import Libraries\n",
    "import pandas as pd\n",
    "import numpy as np\n",
    "import matplotlib.pyplot as mp\n",
    "\n",
    "#Import validation and testing data sets\n",
    "rtb_train = pd.read_csv(\"train.csv\")\n",
    "rtb_train.to_pickle('rtb_train')\n",
    "rtb_validation = pd.read_csv(\"validation.csv\")\n",
    "rtb_validation.to_pickle('rtb_validation')"
   ]
  },
  {
   "cell_type": "code",
   "execution_count": 3,
   "metadata": {},
   "outputs": [
    {
     "name": "stdout",
     "output_type": "stream",
     "text": [
      "Budget is spent!\n",
      "Output\n",
      "Number of Bids: 79874\n",
      "Number of Impressions: 79874\n",
      "Number of Clicks: 44\n",
      "CTR is: 0.055086761649598116 %\n",
      "CPM is: 0.07824824097954278\n",
      "CPC is: 142.04545454545453\n"
     ]
    }
   ],
   "source": [
    "budget = 6250\n",
    "bids = 0\n",
    "impressions = 0\n",
    "clicks = 0\n",
    "bidPrice = (rtb_train.loc[:,\"bidprice\"].mean()/1000)\n",
    "bidPrice2 = (rtb_train.loc[:,\"payprice\"].mean()/1000)\n",
    "\n",
    "for i in range(0,len(rtb_validation)):\n",
    "    if budget > 0 and budget > (rtb_validation['payprice'].values[i]/1000):\n",
    "        if bidPrice > (rtb_validation['bidprice'].values[i]/1000):\n",
    "            impressions += 1\n",
    "            bids += 1\n",
    "            clicks += rtb_validation['click'].values[i]\n",
    "            budget = budget - (rtb_validation['payprice'].values[i]/1000)\n",
    "    else: \n",
    "        print(\"Budget is spent!\")\n",
    "        break\n",
    "        \n",
    "ctr = (clicks/impressions)*100\n",
    "cpm = 6250/impressions\n",
    "cpc = 6250/clicks\n",
    "#Output for the alrogithm\n",
    "print(\"Output\")\n",
    "print(\"Number of Bids:\",bids)\n",
    "print(\"Number of Impressions:\",impressions)\n",
    "print(\"Number of Clicks:\", clicks)\n",
    "print(\"CTR is:\",ctr, \"%\")\n",
    "print(\"CPM is:\",cpm)\n",
    "print(\"CPC is:\",cpc)"
   ]
  },
  {
   "cell_type": "code",
   "execution_count": null,
   "metadata": {},
   "outputs": [],
   "source": []
  }
 ],
 "metadata": {
  "kernelspec": {
   "display_name": "Python 3",
   "language": "python",
   "name": "python3"
  },
  "language_info": {
   "codemirror_mode": {
    "name": "ipython",
    "version": 3
   },
   "file_extension": ".py",
   "mimetype": "text/x-python",
   "name": "python",
   "nbconvert_exporter": "python",
   "pygments_lexer": "ipython3",
   "version": "3.6.4"
  }
 },
 "nbformat": 4,
 "nbformat_minor": 2
}
