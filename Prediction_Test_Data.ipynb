{
 "cells": [
  {
   "cell_type": "code",
   "execution_count": 1,
   "metadata": {},
   "outputs": [],
   "source": [
    "import pandas as pd\n",
    "from matplotlib import pyplot\n",
    "import matplotlib.pyplot as plt\n",
    "import numpy as np\n",
    "import random\n",
    "from operator import itemgetter\n",
    "from sklearn.preprocessing import LabelEncoder\n",
    "from sklearn.preprocessing import StandardScaler\n",
    "from sklearn.metrics import mean_squared_error\n",
    "from sklearn.model_selection import cross_val_score\n",
    "from sklearn.model_selection import GridSearchCV\n",
    "%matplotlib inline"
   ]
  },
  {
   "cell_type": "code",
   "execution_count": 2,
   "metadata": {},
   "outputs": [
    {
     "data": {
      "text/html": [
       "<div>\n",
       "<style scoped>\n",
       "    .dataframe tbody tr th:only-of-type {\n",
       "        vertical-align: middle;\n",
       "    }\n",
       "\n",
       "    .dataframe tbody tr th {\n",
       "        vertical-align: top;\n",
       "    }\n",
       "\n",
       "    .dataframe thead th {\n",
       "        text-align: right;\n",
       "    }\n",
       "</style>\n",
       "<table border=\"1\" class=\"dataframe\">\n",
       "  <thead>\n",
       "    <tr style=\"text-align: right;\">\n",
       "      <th></th>\n",
       "      <th>weekday</th>\n",
       "      <th>hour</th>\n",
       "      <th>region</th>\n",
       "      <th>city</th>\n",
       "      <th>adexchange</th>\n",
       "      <th>slotwidth</th>\n",
       "      <th>slotheight</th>\n",
       "      <th>slotprice</th>\n",
       "      <th>advertiser</th>\n",
       "      <th>useragent_encoded</th>\n",
       "      <th>IP_encoded</th>\n",
       "      <th>url_encoded</th>\n",
       "      <th>domain_encoded</th>\n",
       "      <th>slotid_encoded</th>\n",
       "      <th>slotvisibility_encoded</th>\n",
       "      <th>slotformat_encoded</th>\n",
       "      <th>creative_encoded</th>\n",
       "      <th>keypage_encoded</th>\n",
       "      <th>usertag_encoded</th>\n",
       "    </tr>\n",
       "  </thead>\n",
       "  <tbody>\n",
       "    <tr>\n",
       "      <th>0</th>\n",
       "      <td>5</td>\n",
       "      <td>22</td>\n",
       "      <td>2</td>\n",
       "      <td>2</td>\n",
       "      <td>2</td>\n",
       "      <td>200</td>\n",
       "      <td>200</td>\n",
       "      <td>5</td>\n",
       "      <td>3427</td>\n",
       "      <td>31</td>\n",
       "      <td>253587</td>\n",
       "      <td>268016</td>\n",
       "      <td>21783</td>\n",
       "      <td>12845</td>\n",
       "      <td>2</td>\n",
       "      <td>0</td>\n",
       "      <td>104</td>\n",
       "      <td>0</td>\n",
       "      <td>744035</td>\n",
       "    </tr>\n",
       "    <tr>\n",
       "      <th>1</th>\n",
       "      <td>1</td>\n",
       "      <td>20</td>\n",
       "      <td>238</td>\n",
       "      <td>239</td>\n",
       "      <td>1</td>\n",
       "      <td>300</td>\n",
       "      <td>250</td>\n",
       "      <td>0</td>\n",
       "      <td>2821</td>\n",
       "      <td>29</td>\n",
       "      <td>282720</td>\n",
       "      <td>145905</td>\n",
       "      <td>728</td>\n",
       "      <td>50771</td>\n",
       "      <td>6</td>\n",
       "      <td>3</td>\n",
       "      <td>9</td>\n",
       "      <td>18</td>\n",
       "      <td>744035</td>\n",
       "    </tr>\n",
       "    <tr>\n",
       "      <th>2</th>\n",
       "      <td>3</td>\n",
       "      <td>13</td>\n",
       "      <td>40</td>\n",
       "      <td>41</td>\n",
       "      <td>2</td>\n",
       "      <td>250</td>\n",
       "      <td>250</td>\n",
       "      <td>5</td>\n",
       "      <td>3427</td>\n",
       "      <td>31</td>\n",
       "      <td>469429</td>\n",
       "      <td>262017</td>\n",
       "      <td>18426</td>\n",
       "      <td>9136</td>\n",
       "      <td>2</td>\n",
       "      <td>0</td>\n",
       "      <td>92</td>\n",
       "      <td>0</td>\n",
       "      <td>188248</td>\n",
       "    </tr>\n",
       "    <tr>\n",
       "      <th>3</th>\n",
       "      <td>6</td>\n",
       "      <td>23</td>\n",
       "      <td>1</td>\n",
       "      <td>1</td>\n",
       "      <td>1</td>\n",
       "      <td>160</td>\n",
       "      <td>600</td>\n",
       "      <td>0</td>\n",
       "      <td>1458</td>\n",
       "      <td>31</td>\n",
       "      <td>107833</td>\n",
       "      <td>658015</td>\n",
       "      <td>4770</td>\n",
       "      <td>50450</td>\n",
       "      <td>2</td>\n",
       "      <td>1</td>\n",
       "      <td>111</td>\n",
       "      <td>12</td>\n",
       "      <td>706361</td>\n",
       "    </tr>\n",
       "    <tr>\n",
       "      <th>4</th>\n",
       "      <td>5</td>\n",
       "      <td>6</td>\n",
       "      <td>216</td>\n",
       "      <td>233</td>\n",
       "      <td>2</td>\n",
       "      <td>728</td>\n",
       "      <td>90</td>\n",
       "      <td>133</td>\n",
       "      <td>2259</td>\n",
       "      <td>31</td>\n",
       "      <td>342191</td>\n",
       "      <td>157670</td>\n",
       "      <td>153</td>\n",
       "      <td>1517</td>\n",
       "      <td>8</td>\n",
       "      <td>3</td>\n",
       "      <td>84</td>\n",
       "      <td>18</td>\n",
       "      <td>744035</td>\n",
       "    </tr>\n",
       "  </tbody>\n",
       "</table>\n",
       "</div>"
      ],
      "text/plain": [
       "   weekday  hour  region  city  adexchange  slotwidth  slotheight  slotprice  \\\n",
       "0        5    22       2     2           2        200         200          5   \n",
       "1        1    20     238   239           1        300         250          0   \n",
       "2        3    13      40    41           2        250         250          5   \n",
       "3        6    23       1     1           1        160         600          0   \n",
       "4        5     6     216   233           2        728          90        133   \n",
       "\n",
       "   advertiser  useragent_encoded  IP_encoded  url_encoded  domain_encoded  \\\n",
       "0        3427                 31      253587       268016           21783   \n",
       "1        2821                 29      282720       145905             728   \n",
       "2        3427                 31      469429       262017           18426   \n",
       "3        1458                 31      107833       658015            4770   \n",
       "4        2259                 31      342191       157670             153   \n",
       "\n",
       "   slotid_encoded  slotvisibility_encoded  slotformat_encoded  \\\n",
       "0           12845                       2                   0   \n",
       "1           50771                       6                   3   \n",
       "2            9136                       2                   0   \n",
       "3           50450                       2                   1   \n",
       "4            1517                       8                   3   \n",
       "\n",
       "   creative_encoded  keypage_encoded  usertag_encoded  \n",
       "0               104                0           744035  \n",
       "1                 9               18           744035  \n",
       "2                92                0           188248  \n",
       "3               111               12           706361  \n",
       "4                84               18           744035  "
      ]
     },
     "execution_count": 2,
     "metadata": {},
     "output_type": "execute_result"
    }
   ],
   "source": [
    "# Load Train data \n",
    "df_train_prepared = pd.read_pickle('df_train_prepared')\n",
    " \n",
    "\n",
    "train_payprice = df_train_prepared['payprice']\n",
    "train_bidprice = df_train_prepared['bidprice']\n",
    "train_click = df_train_prepared['click']\n",
    "\n",
    "rtb_train = df_train_prepared.drop(['click','payprice','bidprice'], axis =1)\n",
    "rtb_train.head()\n",
    "\n"
   ]
  },
  {
   "cell_type": "code",
   "execution_count": 10,
   "metadata": {},
   "outputs": [],
   "source": [
    "# Scale validation data for better prediction when using logistic \n",
    "standard_scaler = StandardScaler().fit(rtb_train)\n",
    "train_x = standard_scaler.transform(rtb_train)\n"
   ]
  },
  {
   "cell_type": "code",
   "execution_count": 11,
   "metadata": {},
   "outputs": [
    {
     "data": {
      "text/html": [
       "<div>\n",
       "<style scoped>\n",
       "    .dataframe tbody tr th:only-of-type {\n",
       "        vertical-align: middle;\n",
       "    }\n",
       "\n",
       "    .dataframe tbody tr th {\n",
       "        vertical-align: top;\n",
       "    }\n",
       "\n",
       "    .dataframe thead th {\n",
       "        text-align: right;\n",
       "    }\n",
       "</style>\n",
       "<table border=\"1\" class=\"dataframe\">\n",
       "  <thead>\n",
       "    <tr style=\"text-align: right;\">\n",
       "      <th></th>\n",
       "      <th>weekday</th>\n",
       "      <th>hour</th>\n",
       "      <th>region</th>\n",
       "      <th>city</th>\n",
       "      <th>adexchange</th>\n",
       "      <th>slotwidth</th>\n",
       "      <th>slotheight</th>\n",
       "      <th>slotprice</th>\n",
       "      <th>advertiser</th>\n",
       "      <th>useragent_encoded</th>\n",
       "      <th>IP_encoded</th>\n",
       "      <th>url_encoded</th>\n",
       "      <th>domain_encoded</th>\n",
       "      <th>slotid_encoded</th>\n",
       "      <th>slotvisibility_encoded</th>\n",
       "      <th>slotformat_encoded</th>\n",
       "      <th>creative_encoded</th>\n",
       "      <th>keypage_encoded</th>\n",
       "      <th>usertag_encoded</th>\n",
       "    </tr>\n",
       "  </thead>\n",
       "  <tbody>\n",
       "    <tr>\n",
       "      <th>0</th>\n",
       "      <td>0</td>\n",
       "      <td>12</td>\n",
       "      <td>146</td>\n",
       "      <td>159</td>\n",
       "      <td>3</td>\n",
       "      <td>300</td>\n",
       "      <td>250</td>\n",
       "      <td>10</td>\n",
       "      <td>3427</td>\n",
       "      <td>24</td>\n",
       "      <td>167628</td>\n",
       "      <td>18581</td>\n",
       "      <td>3258</td>\n",
       "      <td>13944</td>\n",
       "      <td>0</td>\n",
       "      <td>0</td>\n",
       "      <td>1</td>\n",
       "      <td>11</td>\n",
       "      <td>17374</td>\n",
       "    </tr>\n",
       "    <tr>\n",
       "      <th>1</th>\n",
       "      <td>3</td>\n",
       "      <td>14</td>\n",
       "      <td>1</td>\n",
       "      <td>1</td>\n",
       "      <td>0</td>\n",
       "      <td>320</td>\n",
       "      <td>50</td>\n",
       "      <td>5</td>\n",
       "      <td>2997</td>\n",
       "      <td>5</td>\n",
       "      <td>92907</td>\n",
       "      <td>70008</td>\n",
       "      <td>4693</td>\n",
       "      <td>6255</td>\n",
       "      <td>5</td>\n",
       "      <td>3</td>\n",
       "      <td>13</td>\n",
       "      <td>18</td>\n",
       "      <td>115970</td>\n",
       "    </tr>\n",
       "    <tr>\n",
       "      <th>2</th>\n",
       "      <td>5</td>\n",
       "      <td>19</td>\n",
       "      <td>27</td>\n",
       "      <td>34</td>\n",
       "      <td>1</td>\n",
       "      <td>336</td>\n",
       "      <td>280</td>\n",
       "      <td>0</td>\n",
       "      <td>1458</td>\n",
       "      <td>26</td>\n",
       "      <td>48596</td>\n",
       "      <td>57287</td>\n",
       "      <td>6951</td>\n",
       "      <td>15499</td>\n",
       "      <td>2</td>\n",
       "      <td>1</td>\n",
       "      <td>89</td>\n",
       "      <td>12</td>\n",
       "      <td>107970</td>\n",
       "    </tr>\n",
       "    <tr>\n",
       "      <th>3</th>\n",
       "      <td>0</td>\n",
       "      <td>21</td>\n",
       "      <td>238</td>\n",
       "      <td>245</td>\n",
       "      <td>4</td>\n",
       "      <td>960</td>\n",
       "      <td>90</td>\n",
       "      <td>30</td>\n",
       "      <td>2821</td>\n",
       "      <td>26</td>\n",
       "      <td>46570</td>\n",
       "      <td>27487</td>\n",
       "      <td>2378</td>\n",
       "      <td>3922</td>\n",
       "      <td>5</td>\n",
       "      <td>3</td>\n",
       "      <td>4</td>\n",
       "      <td>18</td>\n",
       "      <td>72990</td>\n",
       "    </tr>\n",
       "    <tr>\n",
       "      <th>4</th>\n",
       "      <td>2</td>\n",
       "      <td>20</td>\n",
       "      <td>27</td>\n",
       "      <td>35</td>\n",
       "      <td>3</td>\n",
       "      <td>300</td>\n",
       "      <td>250</td>\n",
       "      <td>50</td>\n",
       "      <td>3386</td>\n",
       "      <td>26</td>\n",
       "      <td>150125</td>\n",
       "      <td>23871</td>\n",
       "      <td>819</td>\n",
       "      <td>14006</td>\n",
       "      <td>0</td>\n",
       "      <td>0</td>\n",
       "      <td>50</td>\n",
       "      <td>3</td>\n",
       "      <td>53930</td>\n",
       "    </tr>\n",
       "  </tbody>\n",
       "</table>\n",
       "</div>"
      ],
      "text/plain": [
       "   weekday  hour  region  city  adexchange  slotwidth  slotheight  slotprice  \\\n",
       "0        0    12     146   159           3        300         250         10   \n",
       "1        3    14       1     1           0        320          50          5   \n",
       "2        5    19      27    34           1        336         280          0   \n",
       "3        0    21     238   245           4        960          90         30   \n",
       "4        2    20      27    35           3        300         250         50   \n",
       "\n",
       "   advertiser  useragent_encoded  IP_encoded  url_encoded  domain_encoded  \\\n",
       "0        3427                 24      167628        18581            3258   \n",
       "1        2997                  5       92907        70008            4693   \n",
       "2        1458                 26       48596        57287            6951   \n",
       "3        2821                 26       46570        27487            2378   \n",
       "4        3386                 26      150125        23871             819   \n",
       "\n",
       "   slotid_encoded  slotvisibility_encoded  slotformat_encoded  \\\n",
       "0           13944                       0                   0   \n",
       "1            6255                       5                   3   \n",
       "2           15499                       2                   1   \n",
       "3            3922                       5                   3   \n",
       "4           14006                       0                   0   \n",
       "\n",
       "   creative_encoded  keypage_encoded  usertag_encoded  \n",
       "0                 1               11            17374  \n",
       "1                13               18           115970  \n",
       "2                89               12           107970  \n",
       "3                 4               18            72990  \n",
       "4                50                3            53930  "
      ]
     },
     "execution_count": 11,
     "metadata": {},
     "output_type": "execute_result"
    }
   ],
   "source": [
    "# Load validation data\n",
    "rtb_test = pd.read_pickle('df_test_prepared')\n",
    "\n",
    "#val_payprice = df_val_prepared['payprice']\n",
    "#val_bidprice = df_val_prepared['bidprice']\n",
    "#val_click = df_val_prepared['click']\n",
    "\n",
    "#rtb_validation = df_val_prepared.drop(['click','payprice','bidprice'], axis =1)\n",
    "rtb_test.head()"
   ]
  },
  {
   "cell_type": "code",
   "execution_count": 12,
   "metadata": {},
   "outputs": [],
   "source": [
    "# Scale validation data for better prediction when using logistic \n",
    "standard_scaler = StandardScaler().fit(rtb_test)\n",
    "test_x = standard_scaler.transform(rtb_test)\n"
   ]
  },
  {
   "cell_type": "markdown",
   "metadata": {},
   "source": [
    "### Average CTR for Train"
   ]
  },
  {
   "cell_type": "markdown",
   "metadata": {},
   "source": [
    "### RANDOM FOREST\n",
    "\n",
    "Random Forest produce slightly better prediction"
   ]
  },
  {
   "cell_type": "code",
   "execution_count": 20,
   "metadata": {},
   "outputs": [
    {
     "data": {
      "text/plain": [
       "DecisionTreeClassifier(class_weight=None, criterion='gini', max_depth=2,\n",
       "            max_features=None, max_leaf_nodes=None,\n",
       "            min_impurity_decrease=0.0, min_impurity_split=None,\n",
       "            min_samples_leaf=1, min_samples_split=2,\n",
       "            min_weight_fraction_leaf=0.0, presort=False, random_state=None,\n",
       "            splitter='best')"
      ]
     },
     "execution_count": 20,
     "metadata": {},
     "output_type": "execute_result"
    }
   ],
   "source": [
    "from sklearn.tree import DecisionTreeClassifier\n",
    "\n",
    "tree_clf = DecisionTreeClassifier(max_depth=2)\n",
    "tree_clf.fit(train_x_rus, train_y_rus)"
   ]
  },
  {
   "cell_type": "markdown",
   "metadata": {},
   "source": [
    "### PREDICTION TRAIN WITH RANDOM FOREST"
   ]
  },
  {
   "cell_type": "code",
   "execution_count": 21,
   "metadata": {},
   "outputs": [
    {
     "name": "stdout",
     "output_type": "stream",
     "text": [
      "Wrong Predictions from Decision Tree For Validation: 589299\n"
     ]
    }
   ],
   "source": [
    "# Prediction for train\n",
    "train_tree_pred = tree_clf.predict(train_x)\n",
    "train_tree_prob = tree_clf.predict_proba(train_x)\n",
    "\n",
    "tree_error = sum(train_tree_pred != train_click) \n",
    "tree_correct = sum(train_tree_pred == train_click) \n",
    "print('Wrong Predictions from Decision Tree For Validation:', tree_error)\n"
   ]
  },
  {
   "cell_type": "code",
   "execution_count": 27,
   "metadata": {},
   "outputs": [
    {
     "data": {
      "text/html": [
       "<div>\n",
       "<style scoped>\n",
       "    .dataframe tbody tr th:only-of-type {\n",
       "        vertical-align: middle;\n",
       "    }\n",
       "\n",
       "    .dataframe tbody tr th {\n",
       "        vertical-align: top;\n",
       "    }\n",
       "\n",
       "    .dataframe thead th {\n",
       "        text-align: right;\n",
       "    }\n",
       "</style>\n",
       "<table border=\"1\" class=\"dataframe\">\n",
       "  <thead>\n",
       "    <tr style=\"text-align: right;\">\n",
       "      <th></th>\n",
       "      <th>probability_no_click</th>\n",
       "      <th>probability_click</th>\n",
       "      <th>click</th>\n",
       "    </tr>\n",
       "  </thead>\n",
       "  <tbody>\n",
       "    <tr>\n",
       "      <th>840</th>\n",
       "      <td>0.613445</td>\n",
       "      <td>0.386555</td>\n",
       "      <td>0</td>\n",
       "    </tr>\n",
       "    <tr>\n",
       "      <th>841</th>\n",
       "      <td>0.613445</td>\n",
       "      <td>0.386555</td>\n",
       "      <td>0</td>\n",
       "    </tr>\n",
       "    <tr>\n",
       "      <th>842</th>\n",
       "      <td>0.613445</td>\n",
       "      <td>0.386555</td>\n",
       "      <td>0</td>\n",
       "    </tr>\n",
       "    <tr>\n",
       "      <th>843</th>\n",
       "      <td>0.434842</td>\n",
       "      <td>0.565158</td>\n",
       "      <td>1</td>\n",
       "    </tr>\n",
       "    <tr>\n",
       "      <th>844</th>\n",
       "      <td>0.613445</td>\n",
       "      <td>0.386555</td>\n",
       "      <td>0</td>\n",
       "    </tr>\n",
       "  </tbody>\n",
       "</table>\n",
       "</div>"
      ],
      "text/plain": [
       "     probability_no_click  probability_click  click\n",
       "840              0.613445           0.386555      0\n",
       "841              0.613445           0.386555      0\n",
       "842              0.613445           0.386555      0\n",
       "843              0.434842           0.565158      1\n",
       "844              0.613445           0.386555      0"
      ]
     },
     "execution_count": 27,
     "metadata": {},
     "output_type": "execute_result"
    }
   ],
   "source": [
    "# Put in df\n",
    "train_tree_predicted = pd.DataFrame(columns=['probability_no_click','probability_click'], data = train_tree_prob)\n",
    "train_tree_predicted['click'] = train_tree_pred\n",
    "train_tree_predicted[840:845]"
   ]
  },
  {
   "cell_type": "markdown",
   "metadata": {},
   "source": [
    "### PREDICTION TEST DATA WITH RANDOM FOREST"
   ]
  },
  {
   "cell_type": "code",
   "execution_count": 28,
   "metadata": {},
   "outputs": [],
   "source": [
    "# Prediction for validation\n",
    "test_prediction = tree_clf.predict(test_x)\n",
    "test_prob = tree_clf.predict_proba(test_x)\n"
   ]
  },
  {
   "cell_type": "code",
   "execution_count": 29,
   "metadata": {},
   "outputs": [
    {
     "data": {
      "text/html": [
       "<div>\n",
       "<style scoped>\n",
       "    .dataframe tbody tr th:only-of-type {\n",
       "        vertical-align: middle;\n",
       "    }\n",
       "\n",
       "    .dataframe tbody tr th {\n",
       "        vertical-align: top;\n",
       "    }\n",
       "\n",
       "    .dataframe thead th {\n",
       "        text-align: right;\n",
       "    }\n",
       "</style>\n",
       "<table border=\"1\" class=\"dataframe\">\n",
       "  <thead>\n",
       "    <tr style=\"text-align: right;\">\n",
       "      <th></th>\n",
       "      <th>probability_no_click</th>\n",
       "      <th>probability_click</th>\n",
       "      <th>click</th>\n",
       "    </tr>\n",
       "  </thead>\n",
       "  <tbody>\n",
       "    <tr>\n",
       "      <th>840</th>\n",
       "      <td>0.613445</td>\n",
       "      <td>0.386555</td>\n",
       "      <td>0</td>\n",
       "    </tr>\n",
       "    <tr>\n",
       "      <th>841</th>\n",
       "      <td>0.613445</td>\n",
       "      <td>0.386555</td>\n",
       "      <td>0</td>\n",
       "    </tr>\n",
       "    <tr>\n",
       "      <th>842</th>\n",
       "      <td>0.613445</td>\n",
       "      <td>0.386555</td>\n",
       "      <td>0</td>\n",
       "    </tr>\n",
       "    <tr>\n",
       "      <th>843</th>\n",
       "      <td>0.613445</td>\n",
       "      <td>0.386555</td>\n",
       "      <td>0</td>\n",
       "    </tr>\n",
       "    <tr>\n",
       "      <th>844</th>\n",
       "      <td>0.434842</td>\n",
       "      <td>0.565158</td>\n",
       "      <td>1</td>\n",
       "    </tr>\n",
       "  </tbody>\n",
       "</table>\n",
       "</div>"
      ],
      "text/plain": [
       "     probability_no_click  probability_click  click\n",
       "840              0.613445           0.386555      0\n",
       "841              0.613445           0.386555      0\n",
       "842              0.613445           0.386555      0\n",
       "843              0.613445           0.386555      0\n",
       "844              0.434842           0.565158      1"
      ]
     },
     "execution_count": 29,
     "metadata": {},
     "output_type": "execute_result"
    }
   ],
   "source": [
    "# Put in df\n",
    "df_test_prediction = pd.DataFrame(columns=['probability_no_click','probability_click'], data = test_prob)\n",
    "\n",
    "df_test_prediction['click'] = test_prediction\n",
    "df_test_prediction.to_pickle('df_test_prediction')\n",
    "df_test_prediction[840:845]"
   ]
  },
  {
   "cell_type": "code",
   "execution_count": 69,
   "metadata": {},
   "outputs": [],
   "source": [
    "\n",
    "pCTR_test = df_test_prediction['probability_click']\n",
    "df_test_prediction.to_pickle('pCTR_train')\n"
   ]
  },
  {
   "cell_type": "markdown",
   "metadata": {},
   "source": [
    "### Linear Bidding "
   ]
  },
  {
   "cell_type": "markdown",
   "metadata": {},
   "source": [
    "basebid * pCRT/averageCTR \n",
    "\n",
    "pCTR = probability of click from Decision Tree Model "
   ]
  },
  {
   "cell_type": "code",
   "execution_count": 103,
   "metadata": {},
   "outputs": [
    {
     "data": {
      "text/plain": [
       "0.02891152703068351"
      ]
     },
     "execution_count": 103,
     "metadata": {},
     "output_type": "execute_result"
    }
   ],
   "source": [
    "click = df_train_prepared[df_train_prepared['click'] == 1]\n",
    "avgCTR = len(click)/len(df_train_prepared)\n",
    "\n",
    "AvgBidPrice = train_bidprice.mean()\n",
    "AvgBidPrice_oneimp  = AvgBidPrice/1000\n",
    "\n",
    "std = np.std(train_bidprice)/1000\n",
    "std"
   ]
  },
  {
   "cell_type": "code",
   "execution_count": 87,
   "metadata": {},
   "outputs": [
    {
     "data": {
      "text/plain": [
       "0.3"
      ]
     },
     "execution_count": 87,
     "metadata": {},
     "output_type": "execute_result"
    }
   ],
   "source": [
    "base= AvgBidPrice/1000 + std\n",
    "base = float(\"{0:.2f}\".format(base))\n",
    "base "
   ]
  },
  {
   "cell_type": "code",
   "execution_count": 113,
   "metadata": {},
   "outputs": [
    {
     "data": {
      "text/plain": [
       "0          44.024196\n",
       "1         102.423377\n",
       "2          44.024196\n",
       "3          44.024196\n",
       "4          44.024196\n",
       "5          44.024196\n",
       "6          64.365070\n",
       "7          44.024196\n",
       "8          64.365070\n",
       "9          44.024196\n",
       "10         44.024196\n",
       "11        102.423377\n",
       "12         44.024196\n",
       "13         64.365070\n",
       "14         44.024196\n",
       "15         44.024196\n",
       "16         44.024196\n",
       "17         64.365070\n",
       "18         44.024196\n",
       "19         44.024196\n",
       "20         64.365070\n",
       "21         44.024196\n",
       "22         44.024196\n",
       "23         64.365070\n",
       "24         44.024196\n",
       "25        102.423377\n",
       "26         44.024196\n",
       "27         44.024196\n",
       "28         44.024196\n",
       "29         44.024196\n",
       "             ...    \n",
       "303345     44.024196\n",
       "303346     44.024196\n",
       "303347     44.024196\n",
       "303348     44.024196\n",
       "303349     64.365070\n",
       "303350     44.024196\n",
       "303351     64.365070\n",
       "303352     64.365070\n",
       "303353     66.666545\n",
       "303354     44.024196\n",
       "303355     44.024196\n",
       "303356     64.365070\n",
       "303357     44.024196\n",
       "303358     44.024196\n",
       "303359     44.024196\n",
       "303360     44.024196\n",
       "303361     44.024196\n",
       "303362     44.024196\n",
       "303363     44.024196\n",
       "303364     44.024196\n",
       "303365     44.024196\n",
       "303366     44.024196\n",
       "303367     44.024196\n",
       "303368     64.365070\n",
       "303369     44.024196\n",
       "303370     44.024196\n",
       "303371     44.024196\n",
       "303372     44.024196\n",
       "303373     66.666545\n",
       "303374     44.024196\n",
       "Name: probability_click, Length: 303375, dtype: float64"
      ]
     },
     "execution_count": 113,
     "metadata": {},
     "output_type": "execute_result"
    }
   ],
   "source": [
    "# Fede Bid strategy \n",
    "# Base bid = meidan \n",
    "\n",
    "avgCTR = len(click)/len(df_train_prepared)\n",
    "base_bid =  84/1000\n",
    "pCTR = pCTR_test\n",
    "bidPrice = base_bid * (pCTR/avgCTR)\n",
    "bidPrice"
   ]
  },
  {
   "cell_type": "code",
   "execution_count": 114,
   "metadata": {},
   "outputs": [
    {
     "data": {
      "text/plain": [
       "0    157.229271\n",
       "1    365.797775\n",
       "2    157.229271\n",
       "3    157.229271\n",
       "4    157.229271\n",
       "Name: probability_click, dtype: float64"
      ]
     },
     "execution_count": 114,
     "metadata": {},
     "output_type": "execute_result"
    }
   ],
   "source": [
    " \n",
    "\n",
    "test_prediction_bid = base * (pCTR_test/AvgCTR)\n",
    "#test_prediction_bid = test_prediction_bid.to_frame()\n",
    "test_prediction_bid.head()"
   ]
  },
  {
   "cell_type": "markdown",
   "metadata": {},
   "source": [
    "###  Take the bidid and combining with the bid price prediction"
   ]
  },
  {
   "cell_type": "code",
   "execution_count": 99,
   "metadata": {},
   "outputs": [
    {
     "data": {
      "text/plain": [
       "0    366c563de7d90feb9d4dab53e795a93fb3157387\n",
       "1    29167d4caa719788b5a342dbaa25151d53121f80\n",
       "2    ff8bc3f4d44a3ea60c5f3a3a8fbe7cd98fb2966e\n",
       "3    844c2da00d45315f20b748ec131c26ee99a7cbc7\n",
       "4    c6017f0ad0c44d7d0c9b62583ea863f28941c0ca\n",
       "Name: bidid, dtype: object"
      ]
     },
     "execution_count": 99,
     "metadata": {},
     "output_type": "execute_result"
    }
   ],
   "source": [
    "# Take the bidid and combining with the bid price prediction \n",
    "bidid = pd.read_pickle('df_test_bidid')\n",
    "bidid.head()"
   ]
  },
  {
   "cell_type": "code",
   "execution_count": 119,
   "metadata": {},
   "outputs": [
    {
     "data": {
      "text/html": [
       "<div>\n",
       "<style scoped>\n",
       "    .dataframe tbody tr th:only-of-type {\n",
       "        vertical-align: middle;\n",
       "    }\n",
       "\n",
       "    .dataframe tbody tr th {\n",
       "        vertical-align: top;\n",
       "    }\n",
       "\n",
       "    .dataframe thead th {\n",
       "        text-align: right;\n",
       "    }\n",
       "</style>\n",
       "<table border=\"1\" class=\"dataframe\">\n",
       "  <thead>\n",
       "    <tr style=\"text-align: right;\">\n",
       "      <th></th>\n",
       "      <th>bidid</th>\n",
       "      <th>linear_bid</th>\n",
       "    </tr>\n",
       "  </thead>\n",
       "  <tbody>\n",
       "    <tr>\n",
       "      <th>0</th>\n",
       "      <td>366c563de7d90feb9d4dab53e795a93fb3157387</td>\n",
       "      <td>44.024196</td>\n",
       "    </tr>\n",
       "    <tr>\n",
       "      <th>1</th>\n",
       "      <td>29167d4caa719788b5a342dbaa25151d53121f80</td>\n",
       "      <td>102.423377</td>\n",
       "    </tr>\n",
       "    <tr>\n",
       "      <th>2</th>\n",
       "      <td>ff8bc3f4d44a3ea60c5f3a3a8fbe7cd98fb2966e</td>\n",
       "      <td>44.024196</td>\n",
       "    </tr>\n",
       "    <tr>\n",
       "      <th>3</th>\n",
       "      <td>844c2da00d45315f20b748ec131c26ee99a7cbc7</td>\n",
       "      <td>44.024196</td>\n",
       "    </tr>\n",
       "    <tr>\n",
       "      <th>4</th>\n",
       "      <td>c6017f0ad0c44d7d0c9b62583ea863f28941c0ca</td>\n",
       "      <td>44.024196</td>\n",
       "    </tr>\n",
       "  </tbody>\n",
       "</table>\n",
       "</div>"
      ],
      "text/plain": [
       "                                      bidid  linear_bid\n",
       "0  366c563de7d90feb9d4dab53e795a93fb3157387   44.024196\n",
       "1  29167d4caa719788b5a342dbaa25151d53121f80  102.423377\n",
       "2  ff8bc3f4d44a3ea60c5f3a3a8fbe7cd98fb2966e   44.024196\n",
       "3  844c2da00d45315f20b748ec131c26ee99a7cbc7   44.024196\n",
       "4  c6017f0ad0c44d7d0c9b62583ea863f28941c0ca   44.024196"
      ]
     },
     "execution_count": 119,
     "metadata": {},
     "output_type": "execute_result"
    }
   ],
   "source": [
    "linear_prediction =  pd.concat([bidid, bidPrice], axis=1, join='inner')\n",
    "linear_prediction.columns = ['bidid', 'linear_bid']\n",
    "linear_prediction.head()\n"
   ]
  },
  {
   "cell_type": "code",
   "execution_count": 120,
   "metadata": {},
   "outputs": [
    {
     "data": {
      "text/html": [
       "<div>\n",
       "<style scoped>\n",
       "    .dataframe tbody tr th:only-of-type {\n",
       "        vertical-align: middle;\n",
       "    }\n",
       "\n",
       "    .dataframe tbody tr th {\n",
       "        vertical-align: top;\n",
       "    }\n",
       "\n",
       "    .dataframe thead th {\n",
       "        text-align: right;\n",
       "    }\n",
       "</style>\n",
       "<table border=\"1\" class=\"dataframe\">\n",
       "  <thead>\n",
       "    <tr style=\"text-align: right;\">\n",
       "      <th></th>\n",
       "      <th>bidid</th>\n",
       "      <th>linear_bid</th>\n",
       "    </tr>\n",
       "  </thead>\n",
       "  <tbody>\n",
       "    <tr>\n",
       "      <th>0</th>\n",
       "      <td>366c563de7d90feb9d4dab53e795a93fb3157387</td>\n",
       "      <td>44.024196</td>\n",
       "    </tr>\n",
       "    <tr>\n",
       "      <th>1</th>\n",
       "      <td>29167d4caa719788b5a342dbaa25151d53121f80</td>\n",
       "      <td>102.423377</td>\n",
       "    </tr>\n",
       "    <tr>\n",
       "      <th>2</th>\n",
       "      <td>ff8bc3f4d44a3ea60c5f3a3a8fbe7cd98fb2966e</td>\n",
       "      <td>44.024196</td>\n",
       "    </tr>\n",
       "    <tr>\n",
       "      <th>3</th>\n",
       "      <td>844c2da00d45315f20b748ec131c26ee99a7cbc7</td>\n",
       "      <td>44.024196</td>\n",
       "    </tr>\n",
       "    <tr>\n",
       "      <th>4</th>\n",
       "      <td>c6017f0ad0c44d7d0c9b62583ea863f28941c0ca</td>\n",
       "      <td>44.024196</td>\n",
       "    </tr>\n",
       "  </tbody>\n",
       "</table>\n",
       "</div>"
      ],
      "text/plain": [
       "                                      bidid  linear_bid\n",
       "0  366c563de7d90feb9d4dab53e795a93fb3157387   44.024196\n",
       "1  29167d4caa719788b5a342dbaa25151d53121f80  102.423377\n",
       "2  ff8bc3f4d44a3ea60c5f3a3a8fbe7cd98fb2966e   44.024196\n",
       "3  844c2da00d45315f20b748ec131c26ee99a7cbc7   44.024196\n",
       "4  c6017f0ad0c44d7d0c9b62583ea863f28941c0ca   44.024196"
      ]
     },
     "execution_count": 120,
     "metadata": {},
     "output_type": "execute_result"
    }
   ],
   "source": [
    "linear_prediction.columns = ['bidid', 'linear_bid']\n",
    "linear_prediction.head()"
   ]
  },
  {
   "cell_type": "code",
   "execution_count": 121,
   "metadata": {},
   "outputs": [],
   "source": [
    "linear_prediction.to_csv('Group10_linear_prediction_trial2.csv')"
   ]
  },
  {
   "cell_type": "code",
   "execution_count": null,
   "metadata": {},
   "outputs": [],
   "source": []
  }
 ],
 "metadata": {
  "kernelspec": {
   "display_name": "Python 3",
   "language": "python",
   "name": "python3"
  },
  "language_info": {
   "codemirror_mode": {
    "name": "ipython",
    "version": 3
   },
   "file_extension": ".py",
   "mimetype": "text/x-python",
   "name": "python",
   "nbconvert_exporter": "python",
   "pygments_lexer": "ipython3",
   "version": "3.6.4"
  }
 },
 "nbformat": 4,
 "nbformat_minor": 2
}
