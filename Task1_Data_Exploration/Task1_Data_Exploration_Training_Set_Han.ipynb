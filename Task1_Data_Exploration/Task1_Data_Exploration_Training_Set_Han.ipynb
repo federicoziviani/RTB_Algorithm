{
 "cells": [
  {
   "cell_type": "markdown",
   "metadata": {},
   "source": [
    "## DATA LOADING "
   ]
  },
  {
   "cell_type": "code",
   "execution_count": null,
   "metadata": {},
   "outputs": [],
   "source": [
    "from sqlalchemy import create_engine\n",
    "import pandas as pd\n",
    "import psycopg2\n",
    "from matplotlib import pyplot\n",
    "import matplotlib.pyplot as plt\n",
    "import numpy as np\n",
    "%matplotlib inline"
   ]
  },
  {
   "cell_type": "code",
   "execution_count": null,
   "metadata": {},
   "outputs": [],
   "source": [
    "# THIS TAKES A WHILE TO RUN \n",
    "df_train = pd.read_csv(\"train.csv\")\n",
    "df_train.head()"
   ]
  },
  {
   "cell_type": "code",
   "execution_count": null,
   "metadata": {},
   "outputs": [],
   "source": [
    "len(df_train)"
   ]
  },
  {
   "cell_type": "code",
   "execution_count": null,
   "metadata": {},
   "outputs": [],
   "source": [
    "# Checking for duplicate data \n",
    "print('Number of duplicate row:')\n",
    "df_train.bidid.duplicated().sum()\n"
   ]
  },
  {
   "cell_type": "markdown",
   "metadata": {},
   "source": [
    "## DATA EXPLORATION"
   ]
  },
  {
   "cell_type": "code",
   "execution_count": null,
   "metadata": {},
   "outputs": [],
   "source": [
    "df_train.info()"
   ]
  },
  {
   "cell_type": "code",
   "execution_count": null,
   "metadata": {},
   "outputs": [],
   "source": [
    "# Many row with payprice = 0 , why payprice = 0 ? \n",
    "print('Many rows have payprice = 0')\n",
    "len(df_train[df_train['payprice'] == 0])\n",
    "\n",
    "# Find out which slotid has zero payprice -> slotid QQlive has majority of zero payprice \n",
    "print()\n",
    "print('The slotid have payprice = 0 are:')\n",
    "df_train[df_train['payprice'] == 0].groupby(['slotid']).size()\n"
   ]
  },
  {
   "cell_type": "code",
   "execution_count": null,
   "metadata": {},
   "outputs": [],
   "source": [
    "# Look at click and non click for each advertiser\n",
    "\n",
    "df_click = df_train.groupby(['advertiser','click']).size().reset_index(name ='click_or_no_click')\n",
    "df_click"
   ]
  },
  {
   "cell_type": "code",
   "execution_count": null,
   "metadata": {},
   "outputs": [],
   "source": [
    "# Nummber of click \n",
    "print('NUMBER OF IMPRESSIONS:', len(df_train))\n",
    "print()\n",
    "\n",
    "click = df_train.groupby(['click']).size()\n",
    "print('NUMBERS OF IMPRESSION THAT HAVE CLICKS (= 1) AND NOT HAVING CLICKS (= 0):')\n",
    "\n",
    "print(click)\n",
    "\n",
    "print()\n",
    "print('STATISTIC FOR IMPRESSIONS THAT HAD NO CLICK:')\n",
    "df_train[df_train['click'] == 0].describe()"
   ]
  },
  {
   "cell_type": "code",
   "execution_count": null,
   "metadata": {},
   "outputs": [],
   "source": [
    "# Compare the bidprice and pay price for impression that had click vs not having clicks \n",
    "\n",
    "print('STATISTIC FOR IMPRESSIONS THAT HAD CLICKS:')\n",
    "df_train[df_train['click'] == 1].describe()\n"
   ]
  },
  {
   "cell_type": "markdown",
   "metadata": {},
   "source": [
    "## 2. STATISTIC"
   ]
  },
  {
   "cell_type": "markdown",
   "metadata": {},
   "source": [
    "### 2.1 GENERAL STATISTIC FOR THE WHOLE DATA SET"
   ]
  },
  {
   "cell_type": "code",
   "execution_count": null,
   "metadata": {},
   "outputs": [],
   "source": [
    "# Drop all the columns that are not needed for now \n",
    "df_stat = df_train.drop(columns= ['weekday','hour','userid','useragent','IP','region','city','adexchange','domain','url','urlid','slotid','slotwidth','slotheight','slotvisibility','slotformat','creative','keypage','usertag'])\n",
    "\n",
    "# Add col for pay price for one imp \n",
    "payprice_per_imp = df_stat['payprice'] / 1000\n",
    "df_stat['payprice_per_imp'] = payprice_per_imp.values \n",
    "df_stat.head()"
   ]
  },
  {
   "cell_type": "markdown",
   "metadata": {},
   "source": [
    "#### Number of advertisers and their bids (aka number of impressions)"
   ]
  },
  {
   "cell_type": "code",
   "execution_count": null,
   "metadata": {},
   "outputs": [],
   "source": [
    "print('NUMBER OF IMPRESSIONS:', len(df_stat))\n",
    "print()\n",
    "\n",
    "print('STATISTIC FOR CPM:')\n",
    "print(df_stat['payprice'].describe())\n",
    "\n",
    "print()\n",
    "print('STATISTIC FOR PAY PER IMPRESSION:', )\n",
    "print(df_stat['payprice_per_imp'].describe())\n",
    "\n",
    "print()\n",
    "print('STATISTIC FOR SLOTPRICE:')\n",
    "print(df_stat['slotprice'].describe())\n",
    "\n",
    "print()\n",
    "print('STATISTIC FOR BIDPRICE:')\n",
    "print(df_stat['bidprice'].describe())\n",
    "\n",
    "print()\n",
    "print('STATISTIC FOR BIDPRICE:')\n",
    "print(df_stat['payprice'].describe())\n",
    "\n"
   ]
  },
  {
   "cell_type": "code",
   "execution_count": null,
   "metadata": {},
   "outputs": [],
   "source": [
    "# I got the formulas from here\n",
    "#http://www.usefullytips.com/2016/06/how-to-calculate-cpc-cpa-cpm-ecpc-ecpm.html\n",
    "# Can you please check if these are correct \n",
    " \n",
    "\n",
    "# eCPM Total Earnings/Impressions x 1,000. -> WE DONT HAVE TOTAL EARNING \n",
    "# https://www.techwalla.com/articles/ecpm-vs-cpm\n",
    "\n",
    "# CPM cost per mille \n",
    "CPM = df_stat['payprice'].sum()/len(df_stat)\n",
    "print('AVERAGE CPM:', CPM) \n",
    "\n",
    "\n",
    "# Cost Per Click = cost to an advertiser / number of clicks\n",
    "CPC = df_stat['payprice'].sum()/df_stat['click'].sum()\n",
    "print('AVERAGE CPC:', CPC)  \n",
    "\n",
    "# Click Through Rate = (Number of clicks / number of impressions) x 100\n",
    "CTR = (len(df_stat)/len(df_stat))*100\n",
    "print('AVERAGE CTR:', CTR)  \n",
    "\n"
   ]
  },
  {
   "cell_type": "markdown",
   "metadata": {},
   "source": [
    "### 2.2 STATISTIC ANALYSIS FOR EACH ADVERTISERS"
   ]
  },
  {
   "cell_type": "code",
   "execution_count": null,
   "metadata": {},
   "outputs": [],
   "source": [
    "# Calculate number of bids(aka number od imps) for each advertisers\n",
    "\n",
    "bid_counts = df_stat.groupby(['advertiser']).agg({'bidid':'size'}).rename(columns={'bidid':'number_of_bids'}) "
   ]
  },
  {
   "cell_type": "code",
   "execution_count": null,
   "metadata": {
    "scrolled": true
   },
   "outputs": [],
   "source": [
    "# Statistic for each advertiser: average bidprice, pay price... \n",
    "#df_advertiser_stat.reset_index(name = 'advertisers')\n",
    "\n",
    "advertisers_grouped = df_stat.groupby(['advertiser']).mean()\n",
    "advertisers_grouped"
   ]
  },
  {
   "cell_type": "code",
   "execution_count": null,
   "metadata": {},
   "outputs": [],
   "source": [
    "print('NUMBER OF ADVERTISERS:', len(advertisers_grouped), 'ADVERTISERS')"
   ]
  },
  {
   "cell_type": "code",
   "execution_count": null,
   "metadata": {},
   "outputs": [],
   "source": [
    "# Adding column 'number of bids' \n",
    "advertiser_stat = pd.concat([advertisers_grouped, bid_counts], axis=1)\n",
    "advertiser_stat"
   ]
  },
  {
   "cell_type": "code",
   "execution_count": null,
   "metadata": {},
   "outputs": [],
   "source": [
    "# Plots:\n",
    "# Compare average click rate and pay price for each advertiser \n",
    "\n",
    "\n",
    "fig = plt.figure(figsize=(13, 7))\n",
    "fig.subplots_adjust(wspace = 0.5 )\n",
    "\n",
    "plt.subplot(221)\n",
    "ax11 = advertiser_stat['payprice'].plot(kind = 'bar', color ='black')\n",
    "plt.ylabel('Average Pay Price (black)')\n",
    "ax21 = ax11.twinx()\n",
    "ax21.plot(ax11.get_xticks(), advertiser_stat['click'], marker = 'o', color = 'red')\n",
    "[tl.set_color('r') for tl in ax21.get_yticklabels()]\n",
    "plt.ylabel('Click Rate (red)',color = 'red')\n",
    "ax11.set_title('Click Rate on Average Pay Price')\n",
    "\n",
    "\n",
    "plt.subplot(222)\n",
    "ax = advertiser_stat['number_of_bids'].plot(kind ='bar', color = 'gray')\n",
    "plt.ylabel('Number of Bids (gray)')\n",
    "ax2 = ax.twinx()\n",
    "ax2.plot(ax.get_xticks(), advertiser_stat['click'], marker = 'o', color = 'red')\n",
    "[tl.set_color('red') for tl in ax2.get_yticklabels()]\n",
    "plt.ylabel('Click Rate (red)', color = 'red')\n",
    "ax2.set_title('Click Rate on Number of Bids (aka number of imps)')\n",
    "\n",
    "plt.show()"
   ]
  },
  {
   "cell_type": "code",
   "execution_count": null,
   "metadata": {},
   "outputs": [],
   "source": [
    "# Compare Bid Price and PayPrice \n",
    "\n",
    "ax0 = advertiser_stat['bidprice'].plot(kind = 'bar', color = 'black')\n",
    "\n",
    "ax1 = advertiser_stat['payprice'].plot(kind = 'bar', color = 'red')\n",
    "\n",
    "ax2 = advertiser_stat['slotprice'].plot(kind = 'bar', color = 'gray')\n",
    "plt.ylabel('Average Slot Price, Bid Price, Pay Price')\n",
    "\n",
    "ax0.legend(loc='upper center', bbox_to_anchor=(1.2, 1),  shadow=True, ncol=1 )\n",
    "plt.show()\n",
    "\n",
    "#ax2 = ax0.twinx()\n",
    "#ax2.plot(ax0.get_xticks(), df_advertiser_stat['click'], marker = 'o', color = 'red')\n",
    "#[tl.set_color('r') for tl in ax2.get_yticklabels()]\n",
    "#plt.ylabel('Click Rate ()', color = 'red')\n",
    " \n",
    "plt.show()"
   ]
  },
  {
   "cell_type": "code",
   "execution_count": null,
   "metadata": {},
   "outputs": [],
   "source": [
    "# Sum values for calculate CPM, CPC for each advertiser\n",
    "advertisers_sum = df_stat.groupby(['advertiser']).sum()\n",
    "advertisers_sum = pd.concat([advertisers_grouped, bid_counts], axis=1)\n",
    "advertisers_sum"
   ]
  },
  {
   "cell_type": "code",
   "execution_count": null,
   "metadata": {},
   "outputs": [],
   "source": [
    "\n",
    "# Calculate CPC  \n",
    "CPC = advertisers_sum['payprice']/advertisers_sum['click']\n",
    "print('CPC:', CPC)\n",
    "print()\n",
    "\n",
    "# CPM = (total spent / Impressions delivered )\n",
    "CPM = (advertisers_sum['payprice']/advertisers_sum['number_of_bids'])\n",
    "print('CPM:', CPM)\n",
    "\n",
    "# NOT SURE \n",
    "# eCPC = (Total spent or revence / clicks )\n"
   ]
  },
  {
   "cell_type": "code",
   "execution_count": null,
   "metadata": {},
   "outputs": [],
   "source": []
  }
 ],
 "metadata": {
  "kernelspec": {
   "display_name": "Python 3",
   "language": "python",
   "name": "python3"
  },
  "language_info": {
   "codemirror_mode": {
    "name": "ipython",
    "version": 3
   },
   "file_extension": ".py",
   "mimetype": "text/x-python",
   "name": "python",
   "nbconvert_exporter": "python",
   "pygments_lexer": "ipython3",
   "version": "3.6.4"
  }
 },
 "nbformat": 4,
 "nbformat_minor": 2
}
